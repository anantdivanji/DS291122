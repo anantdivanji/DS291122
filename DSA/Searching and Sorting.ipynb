{
 "cells": [
  {
   "cell_type": "markdown",
   "id": "0860d4c8",
   "metadata": {},
   "source": [
    "# Linear Search"
   ]
  },
  {
   "cell_type": "markdown",
   "id": "cb967b91",
   "metadata": {},
   "source": [
    "Linear search, also known as sequential search, is a straightforward algorithm used to locate a specific value within a list or array. It works by sequentially checking each element of the list until a match is found or the end of the list is reached. Here's how the linear search algorithm works in pseudocode:\n",
    "\n",
    "```plaintext\n",
    "function linear_search(list, target):\n",
    "    for each item in the list:\n",
    "        if item equals target:\n",
    "            return the index of the item\n",
    "    return -1  // target not found in the list\n",
    "```\n",
    "\n",
    "Key points to understand about the linear search algorithm:\n",
    "\n",
    "1. **Input**: It takes a list (or array) as input and the target value you want to find within the list.\n",
    "\n",
    "2. **Iteration**: It iterates through each element in the list, starting from the first (index 0) and moving sequentially to the last element.\n",
    "\n",
    "3. **Comparison**: At each step, it compares the current element to the target value to check for a match.\n",
    "\n",
    "4. **Termination**: If a match is found, it returns the index of the element where the match occurred. If no match is found after checking all elements, it returns -1 to indicate that the target value is not in the list.\n",
    "\n",
    "Here's a Python implementation of the linear search algorithm:\n",
    "\n",
    "```python\n",
    "def linear_search(arr, target):\n",
    "    for i in range(len(arr)):\n",
    "        if arr[i] == target:\n",
    "            return i\n",
    "    return -1\n",
    "```\n",
    "\n",
    "Example usage:\n",
    "\n",
    "```python\n",
    "my_list = [3, 1, 4, 1, 5, 9, 2, 6, 5, 3, 5]\n",
    "target_value = 6\n",
    "result = linear_search(my_list, target_value)\n",
    "if result != -1:\n",
    "    print(f\"Target {target_value} found at index {result}.\")\n",
    "else:\n",
    "    print(f\"Target {target_value} not found in the list.\")\n",
    "```\n",
    "\n",
    "Keep in mind that linear search is not the most efficient algorithm for large datasets. Its time complexity is O(n), where n is the number of elements in the list, meaning that in the worst case, it may need to check every element. For large datasets, more efficient search algorithms like binary search (O(log n)) are preferred."
   ]
  },
  {
   "cell_type": "markdown",
   "id": "25826042",
   "metadata": {},
   "source": [
    "# Binary Search Algorithm"
   ]
  },
  {
   "cell_type": "markdown",
   "id": "88930f5e",
   "metadata": {},
   "source": [
    "Binary search is an efficient algorithm for finding a specific target value within a sorted list or array. It works by repeatedly dividing the search interval in half. Here's how the binary search algorithm works in pseudocode:\n",
    "\n",
    "```plaintext\n",
    "function binary_search(sorted_list, target):\n",
    "    low = 0                   // index of the first element\n",
    "    high = length of list - 1 // index of the last element\n",
    "    \n",
    "    while low <= high:\n",
    "        mid = (low + high) / 2  // calculate the midpoint\n",
    "        if sorted_list[mid] == target:\n",
    "            return mid         // target found, return its index\n",
    "        elif sorted_list[mid] < target:\n",
    "            low = mid + 1      // target is in the right half\n",
    "        else:\n",
    "            high = mid - 1     // target is in the left half\n",
    "    \n",
    "    return -1                 // target not found in the list\n",
    "```\n",
    "\n",
    "Key points to understand about the binary search algorithm:\n",
    "\n",
    "1. **Input**: It takes a sorted list (or array) as input and the target value you want to find within the list.\n",
    "\n",
    "2. **Initialization**: It initializes two pointers, `low` and `high`, to the first and last indices of the list, respectively.\n",
    "\n",
    "3. **Iteration**: It uses a while loop to repeatedly narrow down the search interval by calculating the midpoint (`mid`) of the current interval.\n",
    "\n",
    "4. **Comparison**: At each step, it compares the value at the midpoint (`sorted_list[mid]`) to the target value.\n",
    "\n",
    "5. **Update Pointers**: Depending on the comparison result, it either updates the `low` or `high` pointer to restrict the search to the left or right half of the current interval.\n",
    "\n",
    "6. **Termination**: If a match is found, it returns the index where the match occurred. If no match is found after narrowing the interval, it returns -1 to indicate that the target value is not in the list.\n",
    "\n",
    "Here's a Python implementation of the binary search algorithm:\n",
    "\n",
    "```python\n",
    "def binary_search(sorted_list, target):\n",
    "    low = 0\n",
    "    high = len(sorted_list) - 1\n",
    "    \n",
    "    while low <= high:\n",
    "        mid = (low + high) // 2\n",
    "        if sorted_list[mid] == target:\n",
    "            return mid\n",
    "        elif sorted_list[mid] < target:\n",
    "            low = mid + 1\n",
    "        else:\n",
    "            high = mid - 1\n",
    "    \n",
    "    return -1\n",
    "```\n",
    "\n",
    "Example usage:\n",
    "\n",
    "```python\n",
    "my_list = [1, 3, 4, 5, 6, 9, 11, 15, 18, 20]\n",
    "target_value = 6\n",
    "result = binary_search(my_list, target_value)\n",
    "if result != -1:\n",
    "    print(f\"Target {target_value} found at index {result}.\")\n",
    "else:\n",
    "    print(f\"Target {target_value} not found in the list.\")\n",
    "```\n",
    "\n",
    "Binary search is highly efficient with a time complexity of O(log n), making it suitable for large datasets where it can significantly reduce the number of comparisons required to find the target value. However, it requires that the list is sorted beforehand."
   ]
  },
  {
   "cell_type": "markdown",
   "id": "8db82cc6",
   "metadata": {},
   "source": [
    "# Swapping 2 values of an array"
   ]
  },
  {
   "cell_type": "code",
   "execution_count": 1,
   "id": "b06d7f39",
   "metadata": {},
   "outputs": [
    {
     "name": "stdout",
     "output_type": "stream",
     "text": [
      "[5, 10]\n"
     ]
    }
   ],
   "source": [
    "lst = [10, 5]\n",
    "if lst[0] > lst[1]:\n",
    "    temp = lst[0]\n",
    "    lst[0] = lst[1]\n",
    "    lst[1] = temp\n",
    "print(lst)"
   ]
  },
  {
   "cell_type": "code",
   "execution_count": 2,
   "id": "b31ed849",
   "metadata": {},
   "outputs": [
    {
     "name": "stdout",
     "output_type": "stream",
     "text": [
      "[5, 10]\n"
     ]
    }
   ],
   "source": [
    "lst = [10, 5]\n",
    "if lst[0] > lst[1]:\n",
    "    lst[0], lst[1] = lst[1], lst[0]\n",
    "    \n",
    "print(lst)"
   ]
  },
  {
   "cell_type": "markdown",
   "id": "90027e01",
   "metadata": {},
   "source": [
    "# Bubble Sort"
   ]
  },
  {
   "cell_type": "markdown",
   "id": "5e19e8d1",
   "metadata": {},
   "source": [
    "Bubble Sort is a simple sorting algorithm that repeatedly steps through the list to be sorted, compares adjacent elements, and swaps them if they are in the wrong order. The pass through the list is repeated until no swaps are needed, which indicates that the list is sorted. Here's how the Bubble Sort algorithm works:\n",
    "\n",
    "1. Start at the beginning of the list.\n",
    "\n",
    "2. Compare the first two elements. If the first element is greater than the second element, swap them.\n",
    "\n",
    "3. Move to the next pair of adjacent elements and repeat step 2.\n",
    "\n",
    "4. Continue this process until you reach the end of the list in the first pass. At this point, the largest element has \"bubbled up\" to the end of the list.\n",
    "\n",
    "5. Repeat the process for the remaining unsorted elements (excluding the last element, which is already in its correct position). Continue doing this for each smaller subarray until the entire list is sorted.\n",
    "\n",
    "The algorithm gets its name from the way smaller elements \"bubble\" to the top of the list during each pass.\n",
    "\n",
    "Here's a Python implementation of the Bubble Sort algorithm:\n",
    "\n",
    "```python\n",
    "def bubble_sort(arr):\n",
    "    n = len(arr)\n",
    "    \n",
    "    for i in range(n):\n",
    "        # Flag to optimize the algorithm by checking if any swaps were made in this pass\n",
    "        swapped = False\n",
    "        \n",
    "        for j in range(0, n-i-1):\n",
    "            if arr[j] > arr[j+1]:\n",
    "                # Swap the elements\n",
    "                arr[j], arr[j+1] = arr[j+1], arr[j]\n",
    "                swapped = True\n",
    "        \n",
    "        # If no two elements were swapped in this pass, the list is already sorted\n",
    "        if not swapped:\n",
    "            break\n",
    "\n",
    "# Example usage:\n",
    "my_list = [64, 25, 12, 22, 11]\n",
    "bubble_sort(my_list)\n",
    "print(\"Sorted array:\", my_list)\n",
    "```\n",
    "\n",
    "Bubble Sort has a time complexity of O(n^2) in the worst case, making it inefficient for large lists. However, it is a simple algorithm to understand and implement, which makes it suitable for educational purposes or for small lists where its simplicity might outweigh its inefficiency. There are more efficient sorting algorithms like Quick Sort, Merge Sort, and Heap Sort that are preferred for larger datasets."
   ]
  },
  {
   "cell_type": "markdown",
   "id": "04219e48",
   "metadata": {},
   "source": [
    "# Selection Sort"
   ]
  },
  {
   "cell_type": "markdown",
   "id": "88aea63b",
   "metadata": {},
   "source": [
    "Selection Sort is a simple comparison-based sorting algorithm. It divides the input list into two parts: the sorted portion and the unsorted portion. In each iteration, it finds the smallest (or largest, depending on the sorting order) element from the unsorted portion and moves it to the end of the sorted portion. Here's how the Selection Sort algorithm works:\n",
    "\n",
    "1. Initially, the sorted portion is empty, and the unsorted portion contains all the elements.\n",
    "\n",
    "2. In each iteration, the algorithm finds the minimum (or maximum) element from the unsorted portion.\n",
    "\n",
    "3. Once the minimum (or maximum) element is found, it is swapped with the leftmost element in the unsorted portion. This effectively adds it to the sorted portion at the end.\n",
    "\n",
    "4. The algorithm then considers the next element in the unsorted portion and repeats the process until the entire list is sorted.\n",
    "\n",
    "Selection Sort is not very efficient for large datasets because it has a time complexity of O(n^2), where n is the number of elements in the list. However, it is simple to implement and can be useful for small lists or as a learning exercise.\n",
    "\n",
    "Here's a Python implementation of the Selection Sort algorithm:\n",
    "\n",
    "```python\n",
    "def selection_sort(arr):\n",
    "    n = len(arr)\n",
    "    \n",
    "    for i in range(n):\n",
    "        # Assume the current index has the minimum value\n",
    "        min_index = i\n",
    "        \n",
    "        # Find the index of the minimum element in the unsorted portion\n",
    "        for j in range(i+1, n):\n",
    "            if arr[j] < arr[min_index]:\n",
    "                min_index = j\n",
    "        \n",
    "        # Swap the found minimum element with the leftmost element in the unsorted portion\n",
    "        arr[i], arr[min_index] = arr[min_index], arr[i]\n",
    "\n",
    "# Example usage:\n",
    "my_list = [64, 25, 12, 22, 11]\n",
    "selection_sort(my_list)\n",
    "print(\"Sorted array:\", my_list)\n",
    "```\n",
    "\n",
    "In the example above, the algorithm repeatedly finds the minimum element in the unsorted portion and swaps it with the leftmost element in the unsorted portion until the entire list is sorted."
   ]
  },
  {
   "cell_type": "markdown",
   "id": "73433553",
   "metadata": {},
   "source": [
    "# Insertion Sort"
   ]
  },
  {
   "cell_type": "markdown",
   "id": "ced92864",
   "metadata": {},
   "source": [
    "Insertion Sort is a simple, comparison-based sorting algorithm that builds the final sorted array one item at a time. It is efficient for small datasets and is often used for educational purposes due to its simplicity. Here's how the Insertion Sort algorithm works:\n",
    "\n",
    "1. Start with the second element (assuming the first element is already sorted, as a single element is always considered sorted).\n",
    "\n",
    "2. Compare the current element to the elements before it in the sorted portion of the array.\n",
    "\n",
    "3. Move elements in the sorted portion that are greater than the current element one position to the right.\n",
    "\n",
    "4. Insert the current element into the correct position in the sorted portion.\n",
    "\n",
    "5. Repeat steps 2 to 4 for all elements in the unsorted portion until the entire array is sorted.\n",
    "\n",
    "Here's a Python implementation of the Insertion Sort algorithm:\n",
    "\n",
    "```python\n",
    "def insertion_sort(arr):\n",
    "    for i in range(1, len(arr)):\n",
    "        # Store the current element to be inserted\n",
    "        current_element = arr[i]\n",
    "        \n",
    "        # Start comparing with the last element in the sorted portion\n",
    "        j = i - 1\n",
    "        \n",
    "        # Move elements of the sorted portion that are greater than the current element\n",
    "        # to the right by one position\n",
    "        while j >= 0 and current_element < arr[j]:\n",
    "            arr[j + 1] = arr[j]\n",
    "            j -= 1\n",
    "        \n",
    "        # Insert the current element into its correct position in the sorted portion\n",
    "        arr[j + 1] = current_element\n",
    "\n",
    "# Example usage:\n",
    "my_list = [64, 25, 12, 22, 11]\n",
    "insertion_sort(my_list)\n",
    "print(\"Sorted array:\", my_list)\n",
    "```\n",
    "\n",
    "In this example, the algorithm starts with the second element (`25`) and compares it to the elements before it (`64`). Since `25` is smaller than `64`, it moves `64` one position to the right and inserts `25` into the correct position in the sorted portion. This process continues until the entire list is sorted.\n",
    "\n",
    "Insertion Sort has an average and worst-case time complexity of O(n^2), making it inefficient for large datasets. However, for small datasets or nearly sorted data, it can be faster than more complex sorting algorithms."
   ]
  },
  {
   "cell_type": "code",
   "execution_count": null,
   "id": "914a70a2",
   "metadata": {},
   "outputs": [],
   "source": []
  }
 ],
 "metadata": {
  "kernelspec": {
   "display_name": "Python 3 (ipykernel)",
   "language": "python",
   "name": "python3"
  },
  "language_info": {
   "codemirror_mode": {
    "name": "ipython",
    "version": 3
   },
   "file_extension": ".py",
   "mimetype": "text/x-python",
   "name": "python",
   "nbconvert_exporter": "python",
   "pygments_lexer": "ipython3",
   "version": "3.9.16"
  }
 },
 "nbformat": 4,
 "nbformat_minor": 5
}
