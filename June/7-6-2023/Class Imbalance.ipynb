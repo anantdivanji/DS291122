{
 "cells": [
  {
   "cell_type": "markdown",
   "id": "06b69516",
   "metadata": {},
   "source": [
    "## Load the libraries"
   ]
  },
  {
   "cell_type": "code",
   "execution_count": 1,
   "id": "168ec5cc",
   "metadata": {},
   "outputs": [],
   "source": [
    "import pandas as pd\n",
    "import numpy as np\n",
    "import seaborn as sns"
   ]
  },
  {
   "cell_type": "code",
   "execution_count": 2,
   "id": "0673fae5",
   "metadata": {},
   "outputs": [
    {
     "data": {
      "text/html": [
       "<div>\n",
       "<style scoped>\n",
       "    .dataframe tbody tr th:only-of-type {\n",
       "        vertical-align: middle;\n",
       "    }\n",
       "\n",
       "    .dataframe tbody tr th {\n",
       "        vertical-align: top;\n",
       "    }\n",
       "\n",
       "    .dataframe thead th {\n",
       "        text-align: right;\n",
       "    }\n",
       "</style>\n",
       "<table border=\"1\" class=\"dataframe\">\n",
       "  <thead>\n",
       "    <tr style=\"text-align: right;\">\n",
       "      <th></th>\n",
       "      <th>id</th>\n",
       "      <th>target</th>\n",
       "      <th>day</th>\n",
       "      <th>month</th>\n",
       "      <th>duration</th>\n",
       "      <th>contactId</th>\n",
       "      <th>age</th>\n",
       "      <th>gender</th>\n",
       "      <th>job</th>\n",
       "      <th>maritalStatus</th>\n",
       "      <th>education</th>\n",
       "      <th>creditFailure</th>\n",
       "      <th>accountBalance</th>\n",
       "      <th>house</th>\n",
       "      <th>credit</th>\n",
       "      <th>contactType</th>\n",
       "      <th>numberOfContacts</th>\n",
       "      <th>daySinceLastCampaign</th>\n",
       "      <th>numberOfContactsLastCampaign</th>\n",
       "      <th>lastCampaignResult</th>\n",
       "    </tr>\n",
       "  </thead>\n",
       "  <tbody>\n",
       "    <tr>\n",
       "      <th>0</th>\n",
       "      <td>432148809</td>\n",
       "      <td>no</td>\n",
       "      <td>27</td>\n",
       "      <td>may</td>\n",
       "      <td>166</td>\n",
       "      <td>623</td>\n",
       "      <td>30</td>\n",
       "      <td>female</td>\n",
       "      <td>worker</td>\n",
       "      <td>married</td>\n",
       "      <td>highSchool</td>\n",
       "      <td>no</td>\n",
       "      <td>-202</td>\n",
       "      <td>no</td>\n",
       "      <td>no</td>\n",
       "      <td>unknown</td>\n",
       "      <td>2</td>\n",
       "      <td>NaN</td>\n",
       "      <td>0</td>\n",
       "      <td>unknown</td>\n",
       "    </tr>\n",
       "    <tr>\n",
       "      <th>1</th>\n",
       "      <td>432184318</td>\n",
       "      <td>no</td>\n",
       "      <td>26</td>\n",
       "      <td>oct</td>\n",
       "      <td>183</td>\n",
       "      <td>1992</td>\n",
       "      <td>42</td>\n",
       "      <td>female</td>\n",
       "      <td>manager</td>\n",
       "      <td>married</td>\n",
       "      <td>uniGraduated</td>\n",
       "      <td>no</td>\n",
       "      <td>2463</td>\n",
       "      <td>no</td>\n",
       "      <td>no</td>\n",
       "      <td>cellPhone</td>\n",
       "      <td>2</td>\n",
       "      <td>NaN</td>\n",
       "      <td>0</td>\n",
       "      <td>unknown</td>\n",
       "    </tr>\n",
       "    <tr>\n",
       "      <th>2</th>\n",
       "      <td>432182482</td>\n",
       "      <td>no</td>\n",
       "      <td>5</td>\n",
       "      <td>jun</td>\n",
       "      <td>227</td>\n",
       "      <td>2778</td>\n",
       "      <td>26</td>\n",
       "      <td>female</td>\n",
       "      <td>services</td>\n",
       "      <td>single</td>\n",
       "      <td>highSchool</td>\n",
       "      <td>no</td>\n",
       "      <td>2158</td>\n",
       "      <td>yes</td>\n",
       "      <td>yes</td>\n",
       "      <td>landline</td>\n",
       "      <td>1</td>\n",
       "      <td>NaN</td>\n",
       "      <td>0</td>\n",
       "      <td>unknown</td>\n",
       "    </tr>\n",
       "    <tr>\n",
       "      <th>3</th>\n",
       "      <td>432150520</td>\n",
       "      <td>no</td>\n",
       "      <td>2</td>\n",
       "      <td>jun</td>\n",
       "      <td>31</td>\n",
       "      <td>3070</td>\n",
       "      <td>34</td>\n",
       "      <td>male</td>\n",
       "      <td>unemployed</td>\n",
       "      <td>divorced</td>\n",
       "      <td>uniGraduated</td>\n",
       "      <td>yes</td>\n",
       "      <td>75</td>\n",
       "      <td>yes</td>\n",
       "      <td>no</td>\n",
       "      <td>unknown</td>\n",
       "      <td>3</td>\n",
       "      <td>NaN</td>\n",
       "      <td>0</td>\n",
       "      <td>unknown</td>\n",
       "    </tr>\n",
       "    <tr>\n",
       "      <th>4</th>\n",
       "      <td>432145870</td>\n",
       "      <td>no</td>\n",
       "      <td>15</td>\n",
       "      <td>may</td>\n",
       "      <td>1231</td>\n",
       "      <td>6583</td>\n",
       "      <td>48</td>\n",
       "      <td>male</td>\n",
       "      <td>worker</td>\n",
       "      <td>married</td>\n",
       "      <td>secondarySchool</td>\n",
       "      <td>no</td>\n",
       "      <td>559</td>\n",
       "      <td>yes</td>\n",
       "      <td>no</td>\n",
       "      <td>unknown</td>\n",
       "      <td>2</td>\n",
       "      <td>NaN</td>\n",
       "      <td>0</td>\n",
       "      <td>unknown</td>\n",
       "    </tr>\n",
       "  </tbody>\n",
       "</table>\n",
       "</div>"
      ],
      "text/plain": [
       "          id target  day month  duration  contactId  age  gender         job  \\\n",
       "0  432148809     no   27   may       166        623   30  female      worker   \n",
       "1  432184318     no   26   oct       183       1992   42  female     manager   \n",
       "2  432182482     no    5   jun       227       2778   26  female    services   \n",
       "3  432150520     no    2   jun        31       3070   34    male  unemployed   \n",
       "4  432145870     no   15   may      1231       6583   48    male      worker   \n",
       "\n",
       "  maritalStatus        education creditFailure  accountBalance house credit  \\\n",
       "0       married       highSchool            no            -202    no     no   \n",
       "1       married     uniGraduated            no            2463    no     no   \n",
       "2        single       highSchool            no            2158   yes    yes   \n",
       "3      divorced     uniGraduated           yes              75   yes     no   \n",
       "4       married  secondarySchool            no             559   yes     no   \n",
       "\n",
       "  contactType  numberOfContacts  daySinceLastCampaign  \\\n",
       "0     unknown                 2                   NaN   \n",
       "1   cellPhone                 2                   NaN   \n",
       "2    landline                 1                   NaN   \n",
       "3     unknown                 3                   NaN   \n",
       "4     unknown                 2                   NaN   \n",
       "\n",
       "   numberOfContactsLastCampaign lastCampaignResult  \n",
       "0                             0            unknown  \n",
       "1                             0            unknown  \n",
       "2                             0            unknown  \n",
       "3                             0            unknown  \n",
       "4                             0            unknown  "
      ]
     },
     "execution_count": 2,
     "metadata": {},
     "output_type": "execute_result"
    }
   ],
   "source": [
    "data = pd.read_csv('marketing_campaign.csv')\n",
    "data.head()"
   ]
  },
  {
   "cell_type": "code",
   "execution_count": 3,
   "id": "330ede87",
   "metadata": {},
   "outputs": [
    {
     "data": {
      "text/plain": [
       "(31480, 20)"
      ]
     },
     "execution_count": 3,
     "metadata": {},
     "output_type": "execute_result"
    }
   ],
   "source": [
    "data.shape"
   ]
  },
  {
   "cell_type": "markdown",
   "id": "779c85c9",
   "metadata": {},
   "source": [
    "## Target Analysis"
   ]
  },
  {
   "cell_type": "code",
   "execution_count": 5,
   "id": "8dbd8138",
   "metadata": {},
   "outputs": [
    {
     "data": {
      "text/plain": [
       "no     27780\n",
       "yes     3700\n",
       "Name: target, dtype: int64"
      ]
     },
     "execution_count": 5,
     "metadata": {},
     "output_type": "execute_result"
    }
   ],
   "source": [
    "data['target'].value_counts()"
   ]
  },
  {
   "cell_type": "code",
   "execution_count": 6,
   "id": "6353e4fa",
   "metadata": {},
   "outputs": [
    {
     "data": {
      "text/plain": [
       "no     88.246506\n",
       "yes    11.753494\n",
       "Name: target, dtype: float64"
      ]
     },
     "execution_count": 6,
     "metadata": {},
     "output_type": "execute_result"
    }
   ],
   "source": [
    "data['target'].value_counts(normalize = True) * 100"
   ]
  },
  {
   "cell_type": "code",
   "execution_count": null,
   "id": "85752de2",
   "metadata": {},
   "outputs": [],
   "source": []
  }
 ],
 "metadata": {
  "kernelspec": {
   "display_name": "Python 3 (ipykernel)",
   "language": "python",
   "name": "python3"
  },
  "language_info": {
   "codemirror_mode": {
    "name": "ipython",
    "version": 3
   },
   "file_extension": ".py",
   "mimetype": "text/x-python",
   "name": "python",
   "nbconvert_exporter": "python",
   "pygments_lexer": "ipython3",
   "version": "3.9.16"
  }
 },
 "nbformat": 4,
 "nbformat_minor": 5
}
