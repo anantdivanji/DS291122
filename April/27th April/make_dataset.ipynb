{
 "cells": [
  {
   "cell_type": "code",
   "execution_count": null,
   "metadata": {
    "colab": {
     "base_uri": "https://localhost:8080/"
    },
    "id": "UXNo7FypPQzs",
    "outputId": "ac7e23f7-ec16-4ad2-e575-410d7510fe24"
   },
   "outputs": [
    {
     "name": "stdout",
     "output_type": "stream",
     "text": [
      "[[ 0.49671415]\n",
      " [-0.1382643 ]\n",
      " [ 0.64768854]\n",
      " [ 1.52302986]\n",
      " [-0.23415337]]\n",
      "[ 2.88509522 -0.803089    3.76200899  8.84630755 -1.36004738]\n"
     ]
    }
   ],
   "source": [
    "from sklearn.datasets import make_regression\n",
    "X, y = make_regression(n_samples=5, n_features=1, random_state=42)\n",
    "print(X)\n",
    "print(y)"
   ]
  },
  {
   "cell_type": "code",
   "execution_count": null,
   "metadata": {
    "colab": {
     "base_uri": "https://localhost:8080/",
     "height": 430
    },
    "id": "0646cFVnPsVG",
    "outputId": "48f1c3da-4687-4066-e239-f3cdf01fa144"
   },
   "outputs": [
    {
     "data": {
      "image/png": "[encoded data removed]",
      "text/plain": [
       "<Figure size 640x480 with 1 Axes>"
      ]
     },
     "metadata": {},
     "output_type": "display_data"
    }
   ],
   "source": [
    "\n",
    "from sklearn.datasets import make_regression\n",
    "from matplotlib import pyplot\n",
    "# generate regression dataset\n",
    "X, y = make_regression(n_samples=100, n_features=1, noise=0.1)\n",
    "# plot regression dataset\n",
    "pyplot.scatter(X,y)\n",
    "pyplot.show()"
   ]
  },
  {
   "cell_type": "code",
   "execution_count": null,
   "metadata": {
    "colab": {
     "base_uri": "https://localhost:8080/"
    },
    "id": "blRZuvc_OJdZ",
    "outputId": "60c35449-53c7-427e-c552-6128967ed0d1"
   },
   "outputs": [
    {
     "data": {
      "text/plain": [
       "(array([[ 1.50393786e-01,  9.50423838e-01, -7.59132662e-01,\n",
       "         -2.12389572e+00, -5.76903656e-01, -5.99392645e-01,\n",
       "         -5.25755022e-01, -8.39721842e-01,  3.41755976e-01,\n",
       "          1.87617084e+00],\n",
       "        [ 1.08895060e+00, -7.15303709e-01, -4.71931866e-01,\n",
       "          6.86260190e-01,  6.79597749e-01, -1.86726519e+00,\n",
       "         -1.61271587e+00,  2.31465857e+00,  6.42800191e-02,\n",
       "         -1.07774478e+00],\n",
       "        [-7.14351418e-01, -1.19130350e+00,  2.93072473e-01,\n",
       "         -6.80024722e-01,  6.56553609e-01,  3.46448209e-01,\n",
       "          2.32253697e-01,  2.50492850e-01,  1.86577451e+00,\n",
       "          4.73832921e-01],\n",
       "        [ 4.04050857e-01,  2.57550391e-01, -1.61285712e-01,\n",
       "         -3.42714517e-01, -7.44459158e-02, -4.20645323e-01,\n",
       "         -8.02277269e-01, -1.41537074e+00,  1.88618590e+00,\n",
       "          1.74577813e-01],\n",
       "        [-3.09546439e-01,  9.24027019e-01,  5.93101258e-01,\n",
       "         -1.08106333e+00, -1.84902136e-01,  1.15932980e+00,\n",
       "          6.15935607e-01, -3.60966166e-01,  3.26133022e-01,\n",
       "         -1.25111358e+00],\n",
       "        [ 4.12780927e-01, -2.45388116e-01,  9.63376129e-01,\n",
       "          1.15859558e+00, -7.53736164e-01,  7.87084604e-01,\n",
       "         -8.20682318e-01, -9.74681670e-01,  8.22060160e-01,\n",
       "          1.89679298e+00],\n",
       "        [ 7.12998430e-01,  7.10959968e-01, -1.22212781e+00,\n",
       "         -5.24520266e-01,  4.44263311e-01, -1.12905177e+00,\n",
       "          4.89374561e-01,  7.21672064e-01, -2.40325398e-01,\n",
       "         -3.74820808e-01],\n",
       "        [-5.01757044e-01, -5.29760204e-01, -8.08493603e-01,\n",
       "          1.47789404e+00,  5.13267433e-01,  3.57112572e-01,\n",
       "         -5.18270218e-01, -2.19671888e-01,  9.15402118e-01,\n",
       "          3.28751110e-01],\n",
       "        [-7.19844208e-01,  3.43618290e-01, -1.47852199e+00,\n",
       "         -1.15648282e-01, -1.76304016e+00,  1.71368281e-01,\n",
       "         -3.01103696e-01,  7.38466580e-01, -4.60638771e-01,\n",
       "          1.05712223e+00],\n",
       "        [-4.69175652e-01, -1.14539845e-01,  1.17944012e+00,\n",
       "         -1.32023321e+00,  1.23781631e+00,  4.91919172e-01,\n",
       "          1.83145877e+00, -8.98414671e-01, -1.71313453e+00,\n",
       "          1.35387237e+00],\n",
       "        [ 4.73986713e-02,  1.00629281e+00, -6.51836108e-01,\n",
       "         -6.60797986e-02, -5.76891870e-01, -1.66152006e+00,\n",
       "         -1.21101620e+00,  6.38592459e-01, -8.60413365e-01,\n",
       "         -3.84555544e-01],\n",
       "        [ 2.48220586e-01,  8.30335817e-01,  1.81866255e-01,\n",
       "          6.32781866e-01, -8.56083826e-01, -4.15287914e-01,\n",
       "          2.27069286e+00,  3.38496407e-01, -4.59360900e-01,\n",
       "         -8.49844369e-01],\n",
       "        [-7.92872832e-01, -5.53649305e-01, -5.30257618e-01,\n",
       "         -9.85726046e-01, -1.19787789e+00,  9.55142321e-01,\n",
       "          5.04046516e-01, -6.26790973e-02, -1.07030360e-01,\n",
       "         -1.03524232e+00],\n",
       "        [-7.67347563e-01,  2.18980293e+00,  2.15318246e+00,\n",
       "          1.45114361e+00, -8.08298285e-01,  4.97998291e-01,\n",
       "          9.59270826e-01,  2.45101743e-02,  8.72320637e-01,\n",
       "          1.83342006e-01],\n",
       "        [-3.09172123e-01,  1.25575613e+00, -4.34496227e-01,\n",
       "          9.61207769e-02, -8.94607302e-01, -5.16044728e-01,\n",
       "         -4.62275289e-01,  9.38283806e-01,  2.22133772e-01,\n",
       "         -4.78748622e-01],\n",
       "        [-7.48486537e-01,  1.17929718e+00,  3.32314012e-01,\n",
       "         -1.53411417e+00,  6.75184814e-02, -1.12464209e+00,\n",
       "          1.27767682e+00,  7.11614878e-01,  1.55115198e+00,\n",
       "          1.15674634e-01],\n",
       "        [-1.24778318e+00, -4.40044487e-01, -2.52568151e-01,\n",
       "         -3.24126734e+00,  1.30740577e-01, -5.95253561e-02,\n",
       "         -1.02438764e+00, -9.26930472e-01,  1.63241130e+00,\n",
       "         -1.43014138e+00],\n",
       "        [ 2.63238206e+00, -8.58357780e-01, -9.49398889e-01,\n",
       "         -9.75873253e-01,  7.00309879e-01, -1.35168461e+00,\n",
       "          1.05364180e+00, -9.23233246e-01,  4.93317901e-01,\n",
       "          1.84836124e-01],\n",
       "        [-2.34136957e-01, -4.69474386e-01, -2.34153375e-01,\n",
       "          6.47688538e-01,  5.42560044e-01, -1.38264301e-01,\n",
       "          1.52302986e+00,  4.96714153e-01,  1.57921282e+00,\n",
       "          7.67434729e-01],\n",
       "        [ 1.36863156e+00,  1.05842449e+00,  6.45375950e-01,\n",
       "         -2.48964148e-01, -1.75873949e+00,  1.75534084e+00,\n",
       "          9.71570951e-01,  2.06074792e+00, -9.64923461e-01,\n",
       "          6.86051460e-01],\n",
       "        [-2.20969600e-01, -5.30501148e-01, -1.12328050e-01,\n",
       "         -6.99725508e-01, -5.75818241e-01,  3.52635520e-02,\n",
       "          2.13979911e-01,  1.96472513e+00,  6.14166700e-01,\n",
       "          7.57507710e-01],\n",
       "        [ 6.06009951e-01, -2.08192941e+00, -1.55662917e+00,\n",
       "         -7.04343691e-01,  1.69645637e+00,  1.04900923e+00,\n",
       "         -1.40846130e+00, -5.22723021e-01, -1.28042935e+00,\n",
       "          1.75479418e+00],\n",
       "        [-2.72723570e-01, -2.30934530e-01, -2.45743064e-01,\n",
       "         -2.59591351e-01,  6.96206365e-01,  1.66902153e+00,\n",
       "         -1.50314295e+00, -3.35784699e-01, -2.69688664e+00,\n",
       "         -5.42948665e-02],\n",
       "        [-7.03176425e-01, -6.26967058e-01,  1.14927333e+00,\n",
       "          2.56008454e+00,  1.81244856e+00,  1.22009815e-01,\n",
       "         -9.60598997e-02, -5.75637826e-01, -3.49884905e-02,\n",
       "          1.77080064e+00],\n",
       "        [-3.87701560e-01,  6.58544273e-01, -6.12788690e-01,\n",
       "          1.54750520e+00,  2.01020454e+00, -1.51574411e+00,\n",
       "          1.79587767e+00,  2.02923021e-01,  2.85865391e-01,\n",
       "          3.34456790e-01],\n",
       "        [-1.42225371e+00,  1.68714164e+00, -7.56350745e-01,\n",
       "         -1.60644632e+00,  8.81639757e-01, -9.55540441e-01,\n",
       "          2.03463636e-01, -1.27917591e-01, -6.46572884e-01,\n",
       "         -1.08154800e+00],\n",
       "        [-5.11215676e-01,  5.57249123e-02,  1.59318663e+00,\n",
       "          1.88202450e+00,  1.09419152e+00,  4.71468357e-01,\n",
       "          1.34542005e+00, -7.90474455e-01, -9.89604820e-01,\n",
       "         -1.25786920e-01],\n",
       "        [ 4.92451264e-01, -6.37739984e-01,  1.66452208e-01,\n",
       "         -1.12272202e+00, -5.30996955e-01,  6.74819492e-01,\n",
       "          3.82409746e-01, -4.94637097e-02,  2.89168644e-01,\n",
       "          2.45530014e+00],\n",
       "        [-2.49036040e-01,  3.07888081e+00,  1.64496771e+00,\n",
       "         -1.51519106e+00,  1.11957491e+00, -2.30192116e+00,\n",
       "          1.36687427e+00, -2.75051697e-01,  5.76556963e-01,\n",
       "          3.11250155e-01],\n",
       "        [-1.65485667e+00, -1.28996090e+00, -1.01210438e+00,\n",
       "         -1.58007899e-01, -1.29507877e+00,  1.52955032e+00,\n",
       "         -4.26881070e-01, -1.69246463e+00,  8.23170584e-01,\n",
       "          7.33179672e-02],\n",
       "        [-1.48556037e+00,  8.22839893e-02,  1.03184454e+00,\n",
       "          1.44697788e+00,  1.06548038e+00, -4.39731058e-01,\n",
       "          1.96554777e-01, -1.86871644e-01,  2.67050266e-01,\n",
       "          8.89630796e-01],\n",
       "        [-1.88954073e+00, -1.58390282e+00, -4.46183433e-01,\n",
       "          8.40643549e-01,  7.60414656e-01, -6.81051657e-01,\n",
       "         -6.52623979e-01,  1.28104415e-01, -4.52306319e-01,\n",
       "         -2.42387933e+00],\n",
       "        [ 1.79455786e+00, -1.64228961e-02, -3.31269729e-02,\n",
       "         -1.37931923e+00,  1.18839327e+00, -7.98297245e-01,\n",
       "         -7.30930040e-01, -1.76947227e-01, -5.17611299e-01,\n",
       "          2.23787952e-01],\n",
       "        [ 7.55391226e-01,  9.93323054e-02, -5.76771331e-01,\n",
       "         -2.38948047e-01,  7.51387123e-01, -5.02381094e-02,\n",
       "         -9.07563662e-01,  2.70456826e-01,  5.00917188e-01,\n",
       "         -9.77555245e-01],\n",
       "        [-5.62287529e-01, -9.08024076e-01, -1.72491783e+00,\n",
       "          2.41962272e-01, -1.41230370e+00, -4.65729754e-01,\n",
       "         -1.91328024e+00, -4.63417693e-01, -1.01283112e+00,\n",
       "          3.14247333e-01],\n",
       "        [-1.47057382e-01,  4.12931454e-01,  9.75119733e-01,\n",
       "          7.58045582e-02, -5.63724553e-01, -8.97254371e-01,\n",
       "         -6.77161712e-01, -1.22467728e-02, -8.25497197e-01,\n",
       "         -3.21385842e-01],\n",
       "        [-1.00252936e+00,  3.22718560e-01, -1.90162079e-02,\n",
       "          8.57659623e-01, -8.27230944e-01,  1.47535622e+00,\n",
       "         -1.59938530e-01,  3.10907566e-01, -1.85131360e-02,\n",
       "         -2.88658639e-01],\n",
       "        [ 1.87679581e+00, -1.77872025e+00,  4.13434903e-01,\n",
       "          8.69605920e-01,  1.49604431e+00, -9.22165324e-01,\n",
       "          1.35563786e+00,  7.56988617e-01, -7.73789199e-01,\n",
       "         -1.24465470e+00],\n",
       "        [-1.15836469e+00, -2.20964174e-01, -3.60253909e-03,\n",
       "         -9.66976143e-01,  2.68858390e-02,  4.25457562e-01,\n",
       "         -4.77113561e-02,  7.85800159e-01,  1.50339830e+00,\n",
       "          8.77362291e-01],\n",
       "        [ 5.92184340e-02,  1.98084761e-01,  2.57335980e+00,\n",
       "         -2.68888691e-01, -1.44360412e-01,  1.12656503e+00,\n",
       "         -1.10652591e+00,  1.84895609e+00,  1.39292919e-02,\n",
       "         -2.41250871e-02],\n",
       "        [-4.08075373e-01, -1.87079192e+00,  1.20121392e+00,\n",
       "          8.71124703e-01, -3.51513484e-01,  2.07540080e+00,\n",
       "         -3.26023532e-01,  2.89774857e-01, -2.03812454e+00,\n",
       "         -1.00808631e+00],\n",
       "        [ 1.84670733e+00,  5.90654831e-01,  6.81891490e-01,\n",
       "         -4.89439443e-01,  1.10870358e+00, -5.30868773e-01,\n",
       "          1.04416088e+00,  2.52693243e+00,  5.83928185e-01,\n",
       "         -3.59292091e-01],\n",
       "        [-5.02054224e-01,  2.43800714e-01,  4.40014450e-01,\n",
       "         -1.44801390e+00, -5.64078631e-01,  1.88115707e+00,\n",
       "         -2.19880596e+00, -5.55199527e-01, -1.02123282e+00,\n",
       "          7.08356447e-01],\n",
       "        [ 3.85317380e-01,  5.82087184e-02,  1.73180926e-01,\n",
       "          2.14093744e-01, -1.14297030e+00,  8.56398794e-01,\n",
       "         -1.24573878e+00, -4.46514952e-01, -8.83857436e-01,\n",
       "          1.53725106e-01],\n",
       "        [ 6.33919022e-01, -6.61786465e-01,  2.14394409e+00,\n",
       "          4.55718399e-02,  8.52433335e-01,  2.16458590e-01,\n",
       "         -6.51600348e-01, -7.30366632e-01, -2.02514259e+00,\n",
       "          1.86454315e-01],\n",
       "        [ 1.17327383e-01,  5.47097381e-01, -2.09015940e-02,\n",
       "          7.47293605e-01, -2.02192652e-01, -5.60181040e-01,\n",
       "          6.10370265e-01, -8.28995011e-01,  1.27766490e+00,\n",
       "         -5.91571389e-01],\n",
       "        [-9.37825040e-01,  5.15047686e-01, -1.37766937e+00,\n",
       "          1.08305124e+00,  3.85273149e+00,  5.60784526e-01,\n",
       "          1.05380205e+00,  3.57787360e-01,  5.15035267e-01,\n",
       "          5.13785951e-01],\n",
       "        [-6.92909595e-01,  8.12862119e-01,  3.57015486e-01,\n",
       "         -5.89364757e-01,  6.29628842e-01, -4.93000935e-01,\n",
       "          8.49602097e-01, -2.08122250e-01,  8.99599875e-01,\n",
       "          3.07299521e-01],\n",
       "        [-1.57022472e+00, -7.44334291e-02,  6.21809962e-01,\n",
       "          6.32407739e-01,  6.20672098e-01, -5.62466776e-01,\n",
       "          9.72554450e-01,  7.07751935e-01, -7.27137176e-01,\n",
       "         -2.47518636e-01],\n",
       "        [-1.52318690e+00,  1.56552403e+00,  1.19504663e+00,\n",
       "          1.32969674e-01, -6.57502611e-02, -1.02651530e+00,\n",
       "         -7.00120815e-01,  1.07363175e+00, -5.58921847e-01,\n",
       "          3.77211875e-01],\n",
       "        [-1.21418861e+00,  6.24119817e-01, -1.00601738e+00,\n",
       "         -8.18220683e-01,  6.28345509e-01,  5.95157025e-01,\n",
       "          2.09238728e+00,  9.69959650e-02,  1.15811087e+00,\n",
       "          7.91662694e-01],\n",
       "        [ 7.81822872e-01,  5.21941566e-01,  2.59882794e-01,\n",
       "         -1.60748323e+00,  2.96984673e-01,  1.30714275e+00,\n",
       "          1.84633859e-01,  2.27459935e-01, -1.23695071e+00,\n",
       "         -1.32045661e+00],\n",
       "        [-1.95208780e+00,  2.80991868e-01,  2.13303337e+00,\n",
       "          1.58601682e+00, -6.22699520e-01,  6.62130675e-01,\n",
       "         -1.23781550e+00,  1.13517345e-01, -1.51785095e-01,\n",
       "          5.88317206e-01],\n",
       "        [ 2.32049937e-01, -7.18444221e-01, -4.71038306e-01,\n",
       "          2.44966571e-01, -2.13447152e-01,  2.43687211e-01,\n",
       "         -5.06943175e-01, -8.22220396e-01, -1.44808434e+00,\n",
       "         -1.40746377e+00],\n",
       "        [ 1.06430228e-01, -2.65096981e+00, -7.12845783e-01,\n",
       "         -3.27532702e-02,  1.09150685e+00, -5.46858941e-01,\n",
       "         -5.43424771e-01, -5.73662007e-01, -2.54977217e-01,\n",
       "          1.50399299e+00],\n",
       "        [-1.46351495e+00,  5.11345664e-03, -3.92108153e-01,\n",
       "         -7.02053094e-01, -2.34587133e-01,  9.68644991e-01,\n",
       "         -3.27662147e-01,  9.70775493e-02,  2.96120277e-01,\n",
       "          2.61055272e-01],\n",
       "        [ 4.62103474e-01,  6.98020850e-02, -9.81508651e-01,\n",
       "          1.16316375e+00, -3.85313597e-01, -1.43586215e+00,\n",
       "          1.02330610e-02,  1.44127329e+00,  1.99059696e-01,\n",
       "         -6.00216877e-01],\n",
       "        [ 4.64365482e-02,  6.45484181e-01,  1.91099068e-01,\n",
       "          2.87448229e-02,  2.16325472e+00, -3.93338812e-01,\n",
       "          1.27845186e+00,  3.68673309e-01, -1.35985614e+00,\n",
       "          7.46253566e-01],\n",
       "        [ 1.45338448e+00, -4.20186817e-01, -4.45502521e-01,\n",
       "          2.29889812e+00, -2.81784609e-01,  1.40934744e+00,\n",
       "         -3.62838560e-01, -5.17288450e-01,  1.57957215e+00,\n",
       "         -5.22860027e-01],\n",
       "        [-4.11876966e-01,  3.94452142e-01,  3.37602662e-01,\n",
       "          1.16778206e+00, -4.20984481e-01, -1.55677235e-01,\n",
       "          2.54420843e-01,  8.65897875e-02, -4.87606224e-01,\n",
       "         -4.32558188e-01],\n",
       "        [-7.77816688e-01,  9.35678393e-01, -1.40751169e+00,\n",
       "         -3.42687594e-01,  1.27155509e+00, -2.07339023e+00,\n",
       "         -3.71440866e-01,  1.24608519e+00, -1.11057585e+00,\n",
       "          1.75227044e+00],\n",
       "        [-4.01220472e-01,  9.76760985e-02,  6.90143992e-01,\n",
       "         -1.08760148e-01, -7.73009784e-01,  1.53273891e+00,\n",
       "          4.01711722e-01,  5.19346514e-01,  2.24092482e-01,\n",
       "          1.25924008e-02],\n",
       "        [-5.70746294e-01, -5.52223044e-01,  1.42050425e+00,\n",
       "         -6.37387127e-01,  6.32931818e-01, -5.55477119e-01,\n",
       "          1.18901653e+00, -6.23140526e-01, -8.32355573e-01,\n",
       "          4.71415556e-01],\n",
       "        [ 4.72597482e-01,  1.66547444e+00,  1.02915564e+00,\n",
       "          4.08252756e-01,  1.01437007e+00, -9.78372778e-01,\n",
       "         -1.70258360e+00,  1.95845255e-01,  2.56029734e-01,\n",
       "          9.82690984e-01],\n",
       "        [ 8.27183249e-01, -2.64656833e-01,  2.76690799e-01,\n",
       "         -7.71017094e-02,  2.72016917e+00, -8.15810285e-01,\n",
       "          3.41151975e-01, -8.89514430e-01,  1.30018919e-02,\n",
       "          1.45353408e+00],\n",
       "        [ 7.40947804e-02, -1.70338244e+00,  1.50235705e+00,\n",
       "         -2.69406834e-01, -5.55476989e-02, -2.03923218e+00,\n",
       "          7.17542256e-01, -1.18325851e+00,  1.62861555e+00,\n",
       "         -1.38010146e+00],\n",
       "        [-4.87125384e-01,  4.85216279e-02, -6.50642569e-01,\n",
       "         -1.39856757e+00, -8.30950116e-01,  1.90941664e+00,\n",
       "          5.62969237e-01,  9.26177548e-01, -5.92393924e-01,\n",
       "         -8.63990770e-01],\n",
       "        [ 2.10038416e-02,  3.24166352e-01,  1.30547881e+00,\n",
       "          8.25416349e-01, -1.30143054e-01,  1.09877685e+00,\n",
       "          8.13509636e-01, -2.17681203e-01,  6.81952971e-01,\n",
       "         -3.10266757e-01],\n",
       "        [-1.83983336e-01, -5.39759680e-01,  1.70865438e-01,\n",
       "         -1.34818542e+00, -7.78304725e-01, -1.71016839e+00,\n",
       "          7.43264094e-01,  3.07801769e-01,  1.84339331e-02,\n",
       "          3.47581705e-01],\n",
       "        [-1.80488210e+00,  2.59722502e-01, -7.63259157e-01,\n",
       "         -6.62623759e-01, -9.04316625e-01,  5.43360192e-01,\n",
       "          5.70598669e-01, -1.66940528e+00, -1.62754244e+00,\n",
       "          4.80849467e-02],\n",
       "        [-2.81100293e-01, -5.71178990e-01, -1.00162001e+00,\n",
       "         -2.47177383e-01,  5.72582781e-01, -2.04173487e+00,\n",
       "         -6.81984248e-01,  2.08382808e-01,  1.79768653e+00,\n",
       "          6.40842861e-01],\n",
       "        [ 6.48709888e-01,  1.20650897e+00,  1.38215899e+00,\n",
       "          1.06667469e+00, -8.16935671e-01,  5.07274031e-01,\n",
       "          1.16929559e+00,  8.20482181e-01, -1.67118080e-01,\n",
       "          1.46713686e-01],\n",
       "        [-7.96895255e-01,  3.71145873e-01, -2.47164450e+00,\n",
       "          5.29804178e-01, -6.03985187e-01, -1.12970685e+00,\n",
       "          1.44156862e+00,  8.35692112e-01,  5.77072127e-01,\n",
       "         -2.03045386e-01],\n",
       "        [ 7.14000494e-01, -8.46793718e-01, -2.23462785e-01,\n",
       "         -1.07089250e+00, -1.51484722e+00, -8.57157556e-01,\n",
       "          4.82472415e-01,  6.25667348e-01,  4.73237625e-01,\n",
       "         -7.28289127e-02],\n",
       "        [ 6.69672549e-01, -5.13866917e-01, -1.30446950e+00,\n",
       "         -2.06744210e+00, -1.05921352e+00, -3.26947481e-02,\n",
       "         -8.91200395e-02,  3.84065449e-01,  3.66598246e-01,\n",
       "         -9.39879786e-01],\n",
       "        [-3.34501236e-01,  1.76545424e+00, -1.20029641e+00,\n",
       "          5.04987279e-01,  4.04981711e-01, -1.14736441e-01,\n",
       "          8.65755194e-01, -7.92520738e-01, -4.74945311e-01,\n",
       "         -6.53329233e-01],\n",
       "        [ 2.19045563e+00,  9.96513651e-02,  5.86857094e-01,\n",
       "          1.40279431e+00, -5.03475654e-01, -9.09387455e-01,\n",
       "         -1.40185106e+00,  7.91031947e-01, -9.90536325e-01,\n",
       "         -5.66297730e-01],\n",
       "        [ 1.08078073e+00, -7.01657115e-02,  5.59790448e-01,\n",
       "          3.80197851e-01, -1.66096093e+00, -1.33534436e+00,\n",
       "          6.10585745e-01,  1.77701001e-01,  8.33922155e-01,\n",
       "          4.59180079e-01],\n",
       "        [ 3.01547342e-01,  1.14282281e+00, -1.92360965e-01,\n",
       "          6.02302099e-02,  7.51933033e-01, -2.65138754e-02,\n",
       "          2.46324211e+00, -1.91877122e+00, -3.47117697e-02,\n",
       "         -1.16867804e+00],\n",
       "        [ 1.44011722e+00, -4.01579506e-02, -8.97356943e-02,\n",
       "          1.96521170e-01, -1.43077510e+00,  1.32915253e+00,\n",
       "          7.09003758e-01,  6.42722760e-01, -6.76392302e-01,\n",
       "          1.80094043e+00],\n",
       "        [ 1.54993441e+00,  8.13517217e-01, -9.19424234e-01,\n",
       "         -1.06230371e+00, -1.23086432e+00,  6.85629748e-02,\n",
       "          4.73592431e-01, -1.55066343e+00, -7.83253292e-01,\n",
       "         -3.22061516e-01],\n",
       "        [-5.10016399e-01, -4.44293260e-01,  1.03753994e+00,\n",
       "          4.78979826e-01,  3.77300493e-01, -4.77657447e-01,\n",
       "          3.33662105e-01,  7.15662372e-02, -2.69874935e-01,\n",
       "         -9.78763716e-01],\n",
       "        [ 6.22849932e-01,  1.20295632e-01, -4.50065471e-01,\n",
       "          5.24369972e-03,  5.14438834e-01, -5.99375023e-01,\n",
       "          4.69805938e-02, -1.59442766e+00, -1.06762043e+00,\n",
       "         -1.42379485e-01],\n",
       "        [ 1.10922590e-01, -6.00638690e-01, -5.44382725e-01,\n",
       "          6.75282047e-02, -2.91693750e-01, -2.25776300e-01,\n",
       "         -1.42474819e+00,  1.46564877e+00, -1.15099358e+00,\n",
       "          3.75698018e-01],\n",
       "        [-4.84234073e-01,  4.43819428e-01, -1.51936997e+00,\n",
       "          2.12215620e+00,  7.74634053e-01,  9.17861947e-01,\n",
       "          1.03246526e+00, -1.26088395e+00,  1.26691115e+00,\n",
       "         -7.07669466e-01],\n",
       "        [ 7.58969220e-01, -4.85363548e-01, -3.15269245e-01,\n",
       "          9.54001763e-01,  8.18741394e-02,  1.13556564e+00,\n",
       "          6.51391251e-01,  5.70890511e-01, -7.72825215e-01,\n",
       "         -2.36818607e-01],\n",
       "        [-2.21113531e+00, -1.47858625e+00,  8.29405581e-01,\n",
       "          3.26927374e-01,  1.14375404e+00,  1.67643731e+00,\n",
       "         -2.19100529e-01,  1.84183792e-02,  2.35614558e-01,\n",
       "          7.70865194e-01],\n",
       "        [ 9.31280119e-01,  3.31263431e-01,  1.03099952e+00,\n",
       "         -6.76922000e-01,  9.75545127e-01, -3.85082280e-01,\n",
       "          6.11676289e-01,  3.24083969e-01, -8.39217523e-01,\n",
       "         -3.09212376e-01],\n",
       "        [-1.22084365e+00, -1.32818605e+00,  8.22544912e-01,\n",
       "         -1.34972247e-02,  1.96861236e-01,  1.85227818e+00,\n",
       "         -1.05771093e+00, -6.01706612e-01,  2.08863595e-01,\n",
       "         -1.95967012e+00],\n",
       "        [ 1.05315285e+00,  2.83183761e-02, -1.08105654e+00,\n",
       "          2.71578837e-01,  2.97561395e-02,  2.07687687e-01,\n",
       "         -1.27674858e+00,  4.29618219e-01, -3.95551539e-02,\n",
       "          6.81500697e-01],\n",
       "        [-1.07008477e+00, -4.55860164e-02,  1.84663700e+00,\n",
       "          6.50201178e-01,  2.43339449e-01,  8.72457328e-01,\n",
       "         -9.91758638e-02, -1.28030440e+00, -1.52552517e+00,\n",
       "         -6.91908070e-01],\n",
       "        [-7.25743813e-01, -6.11517803e-01,  5.17659020e-01,\n",
       "         -6.24818578e-01, -1.40666110e+00, -1.27957697e+00,\n",
       "          2.60910502e-02, -1.84087423e+00,  1.86766764e-01,\n",
       "         -7.55382932e-01],\n",
       "        [ 1.35624003e+00,  3.61636025e-01,  8.12525822e-01,\n",
       "         -1.10633497e+00, -6.45119755e-01, -1.85658977e-01,\n",
       "         -1.19620662e+00, -4.79174238e-01, -7.20101216e-02,\n",
       "          1.00353290e+00],\n",
       "        [ 1.11729583e+00,  5.69767280e-01, -8.21511784e-02,\n",
       "         -1.25153942e+00,  4.47708560e-01,  3.52055397e-01,\n",
       "          1.44376460e+00, -2.41236058e-01,  3.42725346e-01,\n",
       "          4.56753219e-01],\n",
       "        [ 2.34214733e-01,  9.84322398e-01, -3.46848874e-02,\n",
       "         -1.00414077e+00, -2.13988844e-01, -9.18651946e-01,\n",
       "         -7.67797565e-01, -1.34445051e+00,  1.55050049e+00,\n",
       "         -9.98354041e-01],\n",
       "        [ 1.29221182e-01,  4.81009232e-01,  2.44575198e+00,\n",
       "          2.79968626e-01,  2.23884024e-01, -5.55846709e-02,\n",
       "         -1.12548905e+00,  6.54365656e-01,  1.09394795e-01,\n",
       "          7.25766624e-01],\n",
       "        [ 2.79021526e-01, -4.46433615e-01, -9.52955324e-02,\n",
       "          2.49383684e-01,  1.94089993e-01,  2.19150328e-01,\n",
       "          1.57745328e+00, -3.07778235e-01,  6.07896510e-01,\n",
       "          1.86609123e-01],\n",
       "        [ 5.38910044e-01, -8.75618253e-01,  1.52312408e+00,\n",
       "          7.73683076e-02, -1.38279973e+00,  1.47994414e+00,\n",
       "         -8.61284201e-01, -7.97264132e-03, -1.03724615e+00,\n",
       "         -1.90338678e-01],\n",
       "        [ 1.10330188e+00, -3.63612212e-01, -3.76347024e-02,\n",
       "         -5.44919087e-01, -5.69456237e-02, -9.67131119e-02,\n",
       "          3.99136114e-01,  2.11017467e-01,  1.14227649e-01,\n",
       "          1.50301761e-01],\n",
       "        [ 8.21902504e-01,  9.17607765e-02, -2.61974510e+00,\n",
       "         -3.58260391e-02, -1.98756891e+00,  1.53803657e+00,\n",
       "          1.56464366e+00,  3.61395606e-01,  8.70470682e-02,\n",
       "         -2.99007350e-01]]),\n",
       " array([ -10.24042764,  -59.28285943, -134.1309246 ,  -31.76116085,\n",
       "         -46.82547287,  138.89701544,   93.23657315,   -7.04115141,\n",
       "          -7.34298278,   51.52175762,  -47.99637479,  236.3176133 ,\n",
       "        -189.94220265,  270.43242071,   17.74044162,   21.70496448,\n",
       "        -512.54922302,  177.88712102,  149.49248547,  343.00449727,\n",
       "         -10.60348899, -149.58735417, -170.52439633,  136.79308908,\n",
       "         240.96292776, -177.81688951,  155.69031997,   97.60827305,\n",
       "         191.49401693, -293.91166174,   17.8051542 , -421.75441412,\n",
       "          25.42939334,  -49.68945583, -243.12938902,  -55.69794553,\n",
       "         -22.83716878,  133.64982127, -116.12422026,  -26.05494544,\n",
       "        -173.25706888,  279.90079778, -232.41461255,  -28.4302076 ,\n",
       "         -34.33928104,   95.26876311,  130.0894246 ,   29.07529997,\n",
       "         -52.5682309 ,  -44.06108251,   79.86967327,  -38.66261864,\n",
       "        -102.72362542, -145.86291707, -155.97422319, -178.29673041,\n",
       "          97.53141261,  178.25737988,  211.52242151,   56.64434926,\n",
       "          29.29496685,   19.57303539,  -39.7205408 ,  118.85987617,\n",
       "         134.06294017, -182.93275186, -107.82462073,  133.67320282,\n",
       "         -82.06751371, -182.9637433 , -107.7209149 ,  327.26093442,\n",
       "          73.65650339,  -27.9393633 , -158.61495496,  131.07018224,\n",
       "         172.17108299,  183.51237041,  190.65815897,  312.92334702,\n",
       "         118.97817525,  -80.09695617,   22.84593716,  -93.74030168,\n",
       "         146.09608197,  146.97977984, -243.11262139,   94.3668246 ,\n",
       "        -377.1583177 ,   70.32658615, -120.90877182, -231.72197478,\n",
       "          44.24178469,  193.23593388, -104.64299873,   42.46674779,\n",
       "         131.87852515,  -63.0976743 ,   82.16129392,  189.840247  ]))"
      ]
     },
     "execution_count": 8,
     "metadata": {},
     "output_type": "execute_result"
    }
   ],
   "source": [
    "# import library\n",
    "from sklearn.datasets import make_regression\n",
    "\n",
    "# create features and targets\n",
    "features, target = make_regression(n_samples=100,\n",
    "                                  n_features=10,\n",
    "                                  n_informative=9,\n",
    "                                  n_targets=1,\n",
    "                                  random_state=42)\n",
    "features, target"
   ]
  },
  {
   "cell_type": "code",
   "execution_count": null,
   "metadata": {
    "colab": {
     "base_uri": "https://localhost:8080/",
     "height": 206
    },
    "id": "Z8K1WRw6OKep",
    "outputId": "ffbd41c0-2f1e-45db-eef7-c93aa10efbf9"
   },
   "outputs": [
    {
     "data": {
      "text/html": [
       "\n",
       "  <div id=\"df-0c9b7709-d640-43fa-bba4-5a3e90990d16\">\n",
       "    <div class=\"colab-df-container\">\n",
       "      <div>\n",
       "<style scoped>\n",
       "    .dataframe tbody tr th:only-of-type {\n",
       "        vertical-align: middle;\n",
       "    }\n",
       "\n",
       "    .dataframe tbody tr th {\n",
       "        vertical-align: top;\n",
       "    }\n",
       "\n",
       "    .dataframe thead th {\n",
       "        text-align: right;\n",
       "    }\n",
       "</style>\n",
       "<table border=\"1\" class=\"dataframe\">\n",
       "  <thead>\n",
       "    <tr style=\"text-align: right;\">\n",
       "      <th></th>\n",
       "      <th>0</th>\n",
       "      <th>1</th>\n",
       "      <th>2</th>\n",
       "      <th>3</th>\n",
       "      <th>4</th>\n",
       "      <th>5</th>\n",
       "      <th>6</th>\n",
       "      <th>7</th>\n",
       "      <th>8</th>\n",
       "      <th>9</th>\n",
       "      <th>target</th>\n",
       "    </tr>\n",
       "  </thead>\n",
       "  <tbody>\n",
       "    <tr>\n",
       "      <th>0</th>\n",
       "      <td>0.150394</td>\n",
       "      <td>0.950424</td>\n",
       "      <td>-0.759133</td>\n",
       "      <td>-2.123896</td>\n",
       "      <td>-0.576904</td>\n",
       "      <td>-0.599393</td>\n",
       "      <td>-0.525755</td>\n",
       "      <td>-0.839722</td>\n",
       "      <td>0.341756</td>\n",
       "      <td>1.876171</td>\n",
       "      <td>-10.240428</td>\n",
       "    </tr>\n",
       "    <tr>\n",
       "      <th>1</th>\n",
       "      <td>1.088951</td>\n",
       "      <td>-0.715304</td>\n",
       "      <td>-0.471932</td>\n",
       "      <td>0.686260</td>\n",
       "      <td>0.679598</td>\n",
       "      <td>-1.867265</td>\n",
       "      <td>-1.612716</td>\n",
       "      <td>2.314659</td>\n",
       "      <td>0.064280</td>\n",
       "      <td>-1.077745</td>\n",
       "      <td>-59.282859</td>\n",
       "    </tr>\n",
       "    <tr>\n",
       "      <th>2</th>\n",
       "      <td>-0.714351</td>\n",
       "      <td>-1.191303</td>\n",
       "      <td>0.293072</td>\n",
       "      <td>-0.680025</td>\n",
       "      <td>0.656554</td>\n",
       "      <td>0.346448</td>\n",
       "      <td>0.232254</td>\n",
       "      <td>0.250493</td>\n",
       "      <td>1.865775</td>\n",
       "      <td>0.473833</td>\n",
       "      <td>-134.130925</td>\n",
       "    </tr>\n",
       "    <tr>\n",
       "      <th>3</th>\n",
       "      <td>0.404051</td>\n",
       "      <td>0.257550</td>\n",
       "      <td>-0.161286</td>\n",
       "      <td>-0.342715</td>\n",
       "      <td>-0.074446</td>\n",
       "      <td>-0.420645</td>\n",
       "      <td>-0.802277</td>\n",
       "      <td>-1.415371</td>\n",
       "      <td>1.886186</td>\n",
       "      <td>0.174578</td>\n",
       "      <td>-31.761161</td>\n",
       "    </tr>\n",
       "    <tr>\n",
       "      <th>4</th>\n",
       "      <td>-0.309546</td>\n",
       "      <td>0.924027</td>\n",
       "      <td>0.593101</td>\n",
       "      <td>-1.081063</td>\n",
       "      <td>-0.184902</td>\n",
       "      <td>1.159330</td>\n",
       "      <td>0.615936</td>\n",
       "      <td>-0.360966</td>\n",
       "      <td>0.326133</td>\n",
       "      <td>-1.251114</td>\n",
       "      <td>-46.825473</td>\n",
       "    </tr>\n",
       "  </tbody>\n",
       "</table>\n",
       "</div>\n",
       "      <button class=\"colab-df-convert\" onclick=\"convertToInteractive('df-0c9b7709-d640-43fa-bba4-5a3e90990d16')\"\n",
       "              title=\"Convert this dataframe to an interactive table.\"\n",
       "              style=\"display:none;\">\n",
       "        \n",
       "  <svg xmlns=\"http://www.w3.org/2000/svg\" height=\"24px\"viewBox=\"0 0 24 24\"\n",
       "       width=\"24px\">\n",
       "    <path d=\"M0 0h24v24H0V0z\" fill=\"none\"/>\n",
       "    <path d=\"M18.56 5.44l.94 2.06.94-2.06 2.06-.94-2.06-.94-.94-2.06-.94 2.06-2.06.94zm-11 1L8.5 8.5l.94-2.06 2.06-.94-2.06-.94L8.5 2.5l-.94 2.06-2.06.94zm10 10l.94 2.06.94-2.06 2.06-.94-2.06-.94-.94-2.06-.94 2.06-2.06.94z\"/><path d=\"M17.41 7.96l-1.37-1.37c-.4-.4-.92-.59-1.43-.59-.52 0-1.04.2-1.43.59L10.3 9.45l-7.72 7.72c-.78.78-.78 2.05 0 2.83L4 21.41c.39.39.9.59 1.41.59.51 0 1.02-.2 1.41-.59l7.78-7.78 2.81-2.81c.8-.78.8-2.07 0-2.86zM5.41 20L4 18.59l7.72-7.72 1.47 1.35L5.41 20z\"/>\n",
       "  </svg>\n",
       "      </button>\n",
       "      \n",
       "  <style>\n",
       "    .colab-df-container {\n",
       "      display:flex;\n",
       "      flex-wrap:wrap;\n",
       "      gap: 12px;\n",
       "    }\n",
       "\n",
       "    .colab-df-convert {\n",
       "      background-color: #E8F0FE;\n",
       "      border: none;\n",
       "      border-radius: 50%;\n",
       "      cursor: pointer;\n",
       "      display: none;\n",
       "      fill: #1967D2;\n",
       "      height: 32px;\n",
       "      padding: 0 0 0 0;\n",
       "      width: 32px;\n",
       "    }\n",
       "\n",
       "    .colab-df-convert:hover {\n",
       "      background-color: #E2EBFA;\n",
       "      box-shadow: 0px 1px 2px rgba(60, 64, 67, 0.3), 0px 1px 3px 1px rgba(60, 64, 67, 0.15);\n",
       "      fill: #174EA6;\n",
       "    }\n",
       "\n",
       "    [theme=dark] .colab-df-convert {\n",
       "      background-color: #3B4455;\n",
       "      fill: #D2E3FC;\n",
       "    }\n",
       "\n",
       "    [theme=dark] .colab-df-convert:hover {\n",
       "      background-color: #434B5C;\n",
       "      box-shadow: 0px 1px 3px 1px rgba(0, 0, 0, 0.15);\n",
       "      filter: drop-shadow(0px 1px 2px rgba(0, 0, 0, 0.3));\n",
       "      fill: #FFFFFF;\n",
       "    }\n",
       "  </style>\n",
       "\n",
       "      <script>\n",
       "        const buttonEl =\n",
       "          document.querySelector('#df-0c9b7709-d640-43fa-bba4-5a3e90990d16 button.colab-df-convert');\n",
       "        buttonEl.style.display =\n",
       "          google.colab.kernel.accessAllowed ? 'block' : 'none';\n",
       "\n",
       "        async function convertToInteractive(key) {\n",
       "          const element = document.querySelector('#df-0c9b7709-d640-43fa-bba4-5a3e90990d16');\n",
       "          const dataTable =\n",
       "            await google.colab.kernel.invokeFunction('convertToInteractive',\n",
       "                                                     [key], {});\n",
       "          if (!dataTable) return;\n",
       "\n",
       "          const docLinkHtml = 'Like what you see? Visit the ' +\n",
       "            '<a target=\"_blank\" href=https://colab.research.google.com/notebooks/data_table.ipynb>data table notebook</a>'\n",
       "            + ' to learn more about interactive tables.';\n",
       "          element.innerHTML = '';\n",
       "          dataTable['output_type'] = 'display_data';\n",
       "          await google.colab.output.renderOutput(dataTable, element);\n",
       "          const docLink = document.createElement('div');\n",
       "          docLink.innerHTML = docLinkHtml;\n",
       "          element.appendChild(docLink);\n",
       "        }\n",
       "      </script>\n",
       "    </div>\n",
       "  </div>\n",
       "  "
      ],
      "text/plain": [
       "          0         1         2         3         4         5         6  \\\n",
       "0  0.150394  0.950424 -0.759133 -2.123896 -0.576904 -0.599393 -0.525755   \n",
       "1  1.088951 -0.715304 -0.471932  0.686260  0.679598 -1.867265 -1.612716   \n",
       "2 -0.714351 -1.191303  0.293072 -0.680025  0.656554  0.346448  0.232254   \n",
       "3  0.404051  0.257550 -0.161286 -0.342715 -0.074446 -0.420645 -0.802277   \n",
       "4 -0.309546  0.924027  0.593101 -1.081063 -0.184902  1.159330  0.615936   \n",
       "\n",
       "          7         8         9      target  \n",
       "0 -0.839722  0.341756  1.876171  -10.240428  \n",
       "1  2.314659  0.064280 -1.077745  -59.282859  \n",
       "2  0.250493  1.865775  0.473833 -134.130925  \n",
       "3 -1.415371  1.886186  0.174578  -31.761161  \n",
       "4 -0.360966  0.326133 -1.251114  -46.825473  "
      ]
     },
     "execution_count": 9,
     "metadata": {},
     "output_type": "execute_result"
    }
   ],
   "source": [
    "import pandas as pd\n",
    "data = pd.DataFrame(features)\n",
    "data['target'] = target\n",
    "data.head()"
   ]
  },
  {
   "cell_type": "code",
   "execution_count": 30,
   "metadata": {
    "colab": {
     "base_uri": "https://localhost:8080/",
     "height": 430
    },
    "id": "021A2iKaSukd",
    "outputId": "d1fa1a8c-e139-43af-c8f5-3d379d42f528"
   },
   "outputs": [
    {
     "data": {
      "image/png": "[encoded data removed]",
      "text/plain": [
       "<Figure size 640x480 with 1 Axes>"
      ]
     },
     "metadata": {},
     "output_type": "display_data"
    }
   ],
   "source": [
    "from sklearn.datasets import make_regression\n",
    "from matplotlib import pyplot\n",
    "X_test, y_test = make_regression(n_samples=150, n_features=1, noise=0.2)\n",
    "pyplot.scatter(X_test,y_test)\n",
    "pyplot.show()"
   ]
  },
  {
   "cell_type": "code",
   "execution_count": 31,
   "metadata": {
    "colab": {
     "base_uri": "https://localhost:8080/",
     "height": 430
    },
    "id": "BUxgW1tBSx46",
    "outputId": "81ded79c-35d3-4d70-98b7-1ee47f01f242"
   },
   "outputs": [
    {
     "data": {
      "image/png": "[encoded data removed]",
      "text/plain": [
       "<Figure size 640x480 with 1 Axes>"
      ]
     },
     "metadata": {},
     "output_type": "display_data"
    }
   ],
   "source": [
    "from sklearn.datasets import make_regression\n",
    "from matplotlib import pyplot\n",
    "X_test, y_test = make_regression(n_samples=150, n_features=1, noise=10)\n",
    "pyplot.scatter(X_test,y_test)\n",
    "pyplot.show()"
   ]
  },
  {
   "cell_type": "code",
   "execution_count": 32,
   "metadata": {
    "colab": {
     "base_uri": "https://localhost:8080/",
     "height": 430
    },
    "id": "IxkRyF74S21g",
    "outputId": "b0ed321d-3960-415c-c496-aebeea7a6a43"
   },
   "outputs": [
    {
     "data": {
      "image/png": "[encoded data removed]",
      "text/plain": [
       "<Figure size 640x480 with 1 Axes>"
      ]
     },
     "metadata": {},
     "output_type": "display_data"
    }
   ],
   "source": [
    "from sklearn.datasets import make_regression\n",
    "from matplotlib import pyplot\n",
    "X_test, y_test = make_regression(n_samples=150, n_features=1, noise=50)\n",
    "pyplot.scatter(X_test,y_test)\n",
    "pyplot.show()"
   ]
  },
  {
   "cell_type": "markdown",
   "metadata": {
    "id": "-GF6igpgRM19"
   },
   "source": [
    "# Make_classification"
   ]
  },
  {
   "cell_type": "code",
   "execution_count": 21,
   "metadata": {
    "colab": {
     "base_uri": "https://localhost:8080/",
     "height": 373
    },
    "id": "8KNYs5_dO6Vr",
    "outputId": "7444b643-30c7-4679-9b1c-89d70ab47397"
   },
   "outputs": [
    {
     "ename": "ValueError",
     "evalue": "ignored",
     "output_type": "error",
     "traceback": [
      "\u001b[0;31m---------------------------------------------------------------------------\u001b[0m",
      "\u001b[0;31mValueError\u001b[0m                                Traceback (most recent call last)",
      "\u001b[0;32m<ipython-input-21-c83b1d34ae3a>\u001b[0m in \u001b[0;36m<cell line: 3>\u001b[0;34m()\u001b[0m\n\u001b[1;32m      1\u001b[0m \u001b[0;32mfrom\u001b[0m \u001b[0msklearn\u001b[0m\u001b[0;34m.\u001b[0m\u001b[0mdatasets\u001b[0m \u001b[0;32mimport\u001b[0m \u001b[0mmake_classification\u001b[0m\u001b[0;34m\u001b[0m\u001b[0;34m\u001b[0m\u001b[0m\n\u001b[1;32m      2\u001b[0m \u001b[0;34m\u001b[0m\u001b[0m\n\u001b[0;32m----> 3\u001b[0;31m X, y = make_classification(\n\u001b[0m\u001b[1;32m      4\u001b[0m     \u001b[0mn_samples\u001b[0m\u001b[0;34m=\u001b[0m\u001b[0;36m1000\u001b[0m\u001b[0;34m,\u001b[0m \u001b[0;31m# 1000 observations\u001b[0m\u001b[0;34m\u001b[0m\u001b[0;34m\u001b[0m\u001b[0m\n\u001b[1;32m      5\u001b[0m     \u001b[0mn_features\u001b[0m\u001b[0;34m=\u001b[0m\u001b[0;36m5\u001b[0m\u001b[0;34m,\u001b[0m \u001b[0;31m# 5 total features\u001b[0m\u001b[0;34m\u001b[0m\u001b[0;34m\u001b[0m\u001b[0m\n",
      "\u001b[0;32m/usr/local/lib/python3.9/dist-packages/sklearn/datasets/_samples_generator.py\u001b[0m in \u001b[0;36mmake_classification\u001b[0;34m(n_samples, n_features, n_informative, n_redundant, n_repeated, n_classes, n_clusters_per_class, weights, flip_y, class_sep, hypercube, shift, scale, shuffle, random_state)\u001b[0m\n\u001b[1;32m    176\u001b[0m     \u001b[0;31m# Count features, clusters and samples\u001b[0m\u001b[0;34m\u001b[0m\u001b[0;34m\u001b[0m\u001b[0m\n\u001b[1;32m    177\u001b[0m     \u001b[0;32mif\u001b[0m \u001b[0mn_informative\u001b[0m \u001b[0;34m+\u001b[0m \u001b[0mn_redundant\u001b[0m \u001b[0;34m+\u001b[0m \u001b[0mn_repeated\u001b[0m \u001b[0;34m>\u001b[0m \u001b[0mn_features\u001b[0m\u001b[0;34m:\u001b[0m\u001b[0;34m\u001b[0m\u001b[0;34m\u001b[0m\u001b[0m\n\u001b[0;32m--> 178\u001b[0;31m         raise ValueError(\n\u001b[0m\u001b[1;32m    179\u001b[0m             \u001b[0;34m\"Number of informative, redundant and repeated \"\u001b[0m\u001b[0;34m\u001b[0m\u001b[0;34m\u001b[0m\u001b[0m\n\u001b[1;32m    180\u001b[0m             \u001b[0;34m\"features must sum to less than the number of total\"\u001b[0m\u001b[0;34m\u001b[0m\u001b[0;34m\u001b[0m\u001b[0m\n",
      "\u001b[0;31mValueError\u001b[0m: Number of informative, redundant and repeated features must sum to less than the number of total features"
     ]
    }
   ],
   "source": [
    "from sklearn.datasets import make_classification\n",
    "\n",
    "X, y = make_classification(\n",
    "    n_samples=1000, # 1000 observations \n",
    "    n_features=5, # 5 total features\n",
    "    n_informative=4, # 3 'useful' features\n",
    "    n_classes=2, # binary target/label \n",
    "    random_state=999 # if you want the same results as mine\n",
    ")"
   ]
  },
  {
   "cell_type": "code",
   "execution_count": 22,
   "metadata": {
    "colab": {
     "base_uri": "https://localhost:8080/"
    },
    "id": "kl50N5-1RPeQ",
    "outputId": "360e4df2-2434-4efe-f0a0-b9251c36544a"
   },
   "outputs": [
    {
     "name": "stdout",
     "output_type": "stream",
     "text": [
      "<class 'pandas.core.frame.DataFrame'>\n",
      "RangeIndex: 1000 entries, 0 to 999\n",
      "Data columns (total 6 columns):\n",
      " #   Column  Non-Null Count  Dtype  \n",
      "---  ------  --------------  -----  \n",
      " 0   X1      1000 non-null   float64\n",
      " 1   X2      1000 non-null   float64\n",
      " 2   X3      1000 non-null   float64\n",
      " 3   X4      1000 non-null   float64\n",
      " 4   X5      1000 non-null   float64\n",
      " 5   y       1000 non-null   int64  \n",
      "dtypes: float64(5), int64(1)\n",
      "memory usage: 47.0 KB\n"
     ]
    }
   ],
   "source": [
    "import pandas as pd\n",
    "\n",
    "# Create DataFrame with features as columns\n",
    "dataset = pd.DataFrame(X)\n",
    "# give custom names to the features\n",
    "dataset.columns = ['X1', 'X2', 'X3', 'X4', 'X5']\n",
    "# Now add the label as a column\n",
    "dataset['y'] = y\n",
    "\n",
    "dataset.info()"
   ]
  },
  {
   "cell_type": "code",
   "execution_count": 23,
   "metadata": {
    "colab": {
     "base_uri": "https://localhost:8080/"
    },
    "id": "5mg6NF2lRSbv",
    "outputId": "b6847f39-8bd4-4abc-87e1-d51a41f36627"
   },
   "outputs": [
    {
     "data": {
      "text/plain": [
       "1    502\n",
       "0    498\n",
       "Name: y, dtype: int64"
      ]
     },
     "execution_count": 23,
     "metadata": {},
     "output_type": "execute_result"
    }
   ],
   "source": [
    "dataset['y'].value_counts()"
   ]
  },
  {
   "cell_type": "markdown",
   "metadata": {
    "id": "YLxsszyJRs0x"
   },
   "source": [
    "# Imabalanced Dataset"
   ]
  },
  {
   "cell_type": "code",
   "execution_count": 24,
   "metadata": {
    "id": "n31jRWk0RaQT"
   },
   "outputs": [],
   "source": [
    "X, y = make_classification(\n",
    "    # the usual parameters\n",
    "    n_samples=1000, n_features=5, n_informative=3, n_classes=2, \n",
    "    # Set label 0 for  97% and 1 for rest 3% of observations\n",
    "    weights=[0.97], \n",
    ")"
   ]
  },
  {
   "cell_type": "code",
   "execution_count": 25,
   "metadata": {
    "colab": {
     "base_uri": "https://localhost:8080/"
    },
    "id": "MvuSpaZpR066",
    "outputId": "e61341e9-522c-4138-be01-22d743f58998"
   },
   "outputs": [
    {
     "data": {
      "text/plain": [
       "0    962\n",
       "1     38\n",
       "dtype: int64"
      ]
     },
     "execution_count": 25,
     "metadata": {},
     "output_type": "execute_result"
    }
   ],
   "source": [
    "pd.DataFrame(y).value_counts()"
   ]
  },
  {
   "cell_type": "markdown",
   "metadata": {
    "id": "nZbFCYQxR6RR"
   },
   "source": [
    "# Multiclass Dataset"
   ]
  },
  {
   "cell_type": "code",
   "execution_count": 26,
   "metadata": {
    "id": "aYj_JQR3R2_J"
   },
   "outputs": [],
   "source": [
    "X, y = make_classification(\n",
    "    # same parameters as usual \n",
    "    n_samples=1000, n_features=5, n_informative=3,\n",
    "    # create target label with 3 classes\n",
    "    n_classes=3, \n",
    ")\n"
   ]
  },
  {
   "cell_type": "code",
   "execution_count": 27,
   "metadata": {
    "colab": {
     "base_uri": "https://localhost:8080/"
    },
    "id": "vxtS9aWzR8J0",
    "outputId": "8357a5ec-edd6-4d42-ce4e-63d85a0a71cb"
   },
   "outputs": [
    {
     "data": {
      "text/plain": [
       "0    335\n",
       "2    333\n",
       "1    332\n",
       "dtype: int64"
      ]
     },
     "execution_count": 27,
     "metadata": {},
     "output_type": "execute_result"
    }
   ],
   "source": [
    "pd.DataFrame(y).value_counts()"
   ]
  },
  {
   "cell_type": "markdown",
   "metadata": {
    "id": "ZKVYibVVSC6Q"
   },
   "source": [
    "# Multiclass Imbalanced Dataset"
   ]
  },
  {
   "cell_type": "code",
   "execution_count": 28,
   "metadata": {
    "id": "beDBZKM6R-Zt"
   },
   "outputs": [],
   "source": [
    "X, y = make_classification(\n",
    "    # same parameters as usual \n",
    "    n_samples=1000, n_features=5, n_informative=3,\n",
    "    # create target label with 3 classes\n",
    "    n_classes=3, \n",
    "    # assign 4% of rows to class 0, 48% to class 1\n",
    "    # and the rest to class 2\n",
    "    weights=[0.04, 0.48]\n",
    ")"
   ]
  },
  {
   "cell_type": "code",
   "execution_count": 29,
   "metadata": {
    "colab": {
     "base_uri": "https://localhost:8080/"
    },
    "id": "uGhoJ9bqSFr0",
    "outputId": "a5cf4c4a-ff6d-417c-d1c6-1d23dbf15ec9"
   },
   "outputs": [
    {
     "data": {
      "text/plain": [
       "2    480\n",
       "1    478\n",
       "0     42\n",
       "dtype: int64"
      ]
     },
     "execution_count": 29,
     "metadata": {},
     "output_type": "execute_result"
    }
   ],
   "source": [
    "pd.DataFrame(y).value_counts()"
   ]
  },
  {
   "cell_type": "markdown",
   "metadata": {
    "id": "zcDEo6YQTafh"
   },
   "source": [
    "# Make Noons dataset(Non - linear data)"
   ]
  },
  {
   "cell_type": "code",
   "execution_count": 35,
   "metadata": {
    "id": "DRnRV-IETc7V"
   },
   "outputs": [],
   "source": [
    "#make_moons hace dos semicírculos entrelazados\n",
    "#Un conjunto de datos de juguete simple para visualizar algoritmos de agrupación y clasificación.\n",
    "features, true_labels = make_moons(n_samples=250, noise=0.05, random_state=42)"
   ]
  },
  {
   "cell_type": "code",
   "execution_count": 36,
   "metadata": {
    "colab": {
     "base_uri": "https://localhost:8080/",
     "height": 206
    },
    "id": "5mGnz7WdUprp",
    "outputId": "1aa039c2-82a3-4393-991e-720e7dba1c45"
   },
   "outputs": [
    {
     "data": {
      "text/html": [
       "\n",
       "  <div id=\"df-3d442c29-ce2b-4c16-8d13-32a584a78399\">\n",
       "    <div class=\"colab-df-container\">\n",
       "      <div>\n",
       "<style scoped>\n",
       "    .dataframe tbody tr th:only-of-type {\n",
       "        vertical-align: middle;\n",
       "    }\n",
       "\n",
       "    .dataframe tbody tr th {\n",
       "        vertical-align: top;\n",
       "    }\n",
       "\n",
       "    .dataframe thead th {\n",
       "        text-align: right;\n",
       "    }\n",
       "</style>\n",
       "<table border=\"1\" class=\"dataframe\">\n",
       "  <thead>\n",
       "    <tr style=\"text-align: right;\">\n",
       "      <th></th>\n",
       "      <th>0</th>\n",
       "      <th>1</th>\n",
       "    </tr>\n",
       "  </thead>\n",
       "  <tbody>\n",
       "    <tr>\n",
       "      <th>0</th>\n",
       "      <td>0.084154</td>\n",
       "      <td>0.113341</td>\n",
       "    </tr>\n",
       "    <tr>\n",
       "      <th>1</th>\n",
       "      <td>1.050915</td>\n",
       "      <td>0.154710</td>\n",
       "    </tr>\n",
       "    <tr>\n",
       "      <th>2</th>\n",
       "      <td>-0.716555</td>\n",
       "      <td>0.675608</td>\n",
       "    </tr>\n",
       "    <tr>\n",
       "      <th>3</th>\n",
       "      <td>0.060932</td>\n",
       "      <td>0.926542</td>\n",
       "    </tr>\n",
       "    <tr>\n",
       "      <th>4</th>\n",
       "      <td>-1.005525</td>\n",
       "      <td>0.336425</td>\n",
       "    </tr>\n",
       "  </tbody>\n",
       "</table>\n",
       "</div>\n",
       "      <button class=\"colab-df-convert\" onclick=\"convertToInteractive('df-3d442c29-ce2b-4c16-8d13-32a584a78399')\"\n",
       "              title=\"Convert this dataframe to an interactive table.\"\n",
       "              style=\"display:none;\">\n",
       "        \n",
       "  <svg xmlns=\"http://www.w3.org/2000/svg\" height=\"24px\"viewBox=\"0 0 24 24\"\n",
       "       width=\"24px\">\n",
       "    <path d=\"M0 0h24v24H0V0z\" fill=\"none\"/>\n",
       "    <path d=\"M18.56 5.44l.94 2.06.94-2.06 2.06-.94-2.06-.94-.94-2.06-.94 2.06-2.06.94zm-11 1L8.5 8.5l.94-2.06 2.06-.94-2.06-.94L8.5 2.5l-.94 2.06-2.06.94zm10 10l.94 2.06.94-2.06 2.06-.94-2.06-.94-.94-2.06-.94 2.06-2.06.94z\"/><path d=\"M17.41 7.96l-1.37-1.37c-.4-.4-.92-.59-1.43-.59-.52 0-1.04.2-1.43.59L10.3 9.45l-7.72 7.72c-.78.78-.78 2.05 0 2.83L4 21.41c.39.39.9.59 1.41.59.51 0 1.02-.2 1.41-.59l7.78-7.78 2.81-2.81c.8-.78.8-2.07 0-2.86zM5.41 20L4 18.59l7.72-7.72 1.47 1.35L5.41 20z\"/>\n",
       "  </svg>\n",
       "      </button>\n",
       "      \n",
       "  <style>\n",
       "    .colab-df-container {\n",
       "      display:flex;\n",
       "      flex-wrap:wrap;\n",
       "      gap: 12px;\n",
       "    }\n",
       "\n",
       "    .colab-df-convert {\n",
       "      background-color: #E8F0FE;\n",
       "      border: none;\n",
       "      border-radius: 50%;\n",
       "      cursor: pointer;\n",
       "      display: none;\n",
       "      fill: #1967D2;\n",
       "      height: 32px;\n",
       "      padding: 0 0 0 0;\n",
       "      width: 32px;\n",
       "    }\n",
       "\n",
       "    .colab-df-convert:hover {\n",
       "      background-color: #E2EBFA;\n",
       "      box-shadow: 0px 1px 2px rgba(60, 64, 67, 0.3), 0px 1px 3px 1px rgba(60, 64, 67, 0.15);\n",
       "      fill: #174EA6;\n",
       "    }\n",
       "\n",
       "    [theme=dark] .colab-df-convert {\n",
       "      background-color: #3B4455;\n",
       "      fill: #D2E3FC;\n",
       "    }\n",
       "\n",
       "    [theme=dark] .colab-df-convert:hover {\n",
       "      background-color: #434B5C;\n",
       "      box-shadow: 0px 1px 3px 1px rgba(0, 0, 0, 0.15);\n",
       "      filter: drop-shadow(0px 1px 2px rgba(0, 0, 0, 0.3));\n",
       "      fill: #FFFFFF;\n",
       "    }\n",
       "  </style>\n",
       "\n",
       "      <script>\n",
       "        const buttonEl =\n",
       "          document.querySelector('#df-3d442c29-ce2b-4c16-8d13-32a584a78399 button.colab-df-convert');\n",
       "        buttonEl.style.display =\n",
       "          google.colab.kernel.accessAllowed ? 'block' : 'none';\n",
       "\n",
       "        async function convertToInteractive(key) {\n",
       "          const element = document.querySelector('#df-3d442c29-ce2b-4c16-8d13-32a584a78399');\n",
       "          const dataTable =\n",
       "            await google.colab.kernel.invokeFunction('convertToInteractive',\n",
       "                                                     [key], {});\n",
       "          if (!dataTable) return;\n",
       "\n",
       "          const docLinkHtml = 'Like what you see? Visit the ' +\n",
       "            '<a target=\"_blank\" href=https://colab.research.google.com/notebooks/data_table.ipynb>data table notebook</a>'\n",
       "            + ' to learn more about interactive tables.';\n",
       "          element.innerHTML = '';\n",
       "          dataTable['output_type'] = 'display_data';\n",
       "          await google.colab.output.renderOutput(dataTable, element);\n",
       "          const docLink = document.createElement('div');\n",
       "          docLink.innerHTML = docLinkHtml;\n",
       "          element.appendChild(docLink);\n",
       "        }\n",
       "      </script>\n",
       "    </div>\n",
       "  </div>\n",
       "  "
      ],
      "text/plain": [
       "          0         1\n",
       "0  0.084154  0.113341\n",
       "1  1.050915  0.154710\n",
       "2 -0.716555  0.675608\n",
       "3  0.060932  0.926542\n",
       "4 -1.005525  0.336425"
      ]
     },
     "execution_count": 36,
     "metadata": {},
     "output_type": "execute_result"
    }
   ],
   "source": [
    "pd.DataFrame(features).head()"
   ]
  },
  {
   "cell_type": "code",
   "execution_count": 37,
   "metadata": {
    "colab": {
     "base_uri": "https://localhost:8080/",
     "height": 206
    },
    "id": "gsao9M_tUulu",
    "outputId": "15bbe9a0-1aeb-4db3-d40a-192e582afc57"
   },
   "outputs": [
    {
     "data": {
      "text/html": [
       "\n",
       "  <div id=\"df-6df8f66f-c58a-4ab5-9ba3-7f834ad9fb5d\">\n",
       "    <div class=\"colab-df-container\">\n",
       "      <div>\n",
       "<style scoped>\n",
       "    .dataframe tbody tr th:only-of-type {\n",
       "        vertical-align: middle;\n",
       "    }\n",
       "\n",
       "    .dataframe tbody tr th {\n",
       "        vertical-align: top;\n",
       "    }\n",
       "\n",
       "    .dataframe thead th {\n",
       "        text-align: right;\n",
       "    }\n",
       "</style>\n",
       "<table border=\"1\" class=\"dataframe\">\n",
       "  <thead>\n",
       "    <tr style=\"text-align: right;\">\n",
       "      <th></th>\n",
       "      <th>Valor Real</th>\n",
       "    </tr>\n",
       "  </thead>\n",
       "  <tbody>\n",
       "    <tr>\n",
       "      <th>0</th>\n",
       "      <td>1</td>\n",
       "    </tr>\n",
       "    <tr>\n",
       "      <th>1</th>\n",
       "      <td>0</td>\n",
       "    </tr>\n",
       "    <tr>\n",
       "      <th>2</th>\n",
       "      <td>0</td>\n",
       "    </tr>\n",
       "    <tr>\n",
       "      <th>3</th>\n",
       "      <td>0</td>\n",
       "    </tr>\n",
       "    <tr>\n",
       "      <th>4</th>\n",
       "      <td>0</td>\n",
       "    </tr>\n",
       "  </tbody>\n",
       "</table>\n",
       "</div>\n",
       "      <button class=\"colab-df-convert\" onclick=\"convertToInteractive('df-6df8f66f-c58a-4ab5-9ba3-7f834ad9fb5d')\"\n",
       "              title=\"Convert this dataframe to an interactive table.\"\n",
       "              style=\"display:none;\">\n",
       "        \n",
       "  <svg xmlns=\"http://www.w3.org/2000/svg\" height=\"24px\"viewBox=\"0 0 24 24\"\n",
       "       width=\"24px\">\n",
       "    <path d=\"M0 0h24v24H0V0z\" fill=\"none\"/>\n",
       "    <path d=\"M18.56 5.44l.94 2.06.94-2.06 2.06-.94-2.06-.94-.94-2.06-.94 2.06-2.06.94zm-11 1L8.5 8.5l.94-2.06 2.06-.94-2.06-.94L8.5 2.5l-.94 2.06-2.06.94zm10 10l.94 2.06.94-2.06 2.06-.94-2.06-.94-.94-2.06-.94 2.06-2.06.94z\"/><path d=\"M17.41 7.96l-1.37-1.37c-.4-.4-.92-.59-1.43-.59-.52 0-1.04.2-1.43.59L10.3 9.45l-7.72 7.72c-.78.78-.78 2.05 0 2.83L4 21.41c.39.39.9.59 1.41.59.51 0 1.02-.2 1.41-.59l7.78-7.78 2.81-2.81c.8-.78.8-2.07 0-2.86zM5.41 20L4 18.59l7.72-7.72 1.47 1.35L5.41 20z\"/>\n",
       "  </svg>\n",
       "      </button>\n",
       "      \n",
       "  <style>\n",
       "    .colab-df-container {\n",
       "      display:flex;\n",
       "      flex-wrap:wrap;\n",
       "      gap: 12px;\n",
       "    }\n",
       "\n",
       "    .colab-df-convert {\n",
       "      background-color: #E8F0FE;\n",
       "      border: none;\n",
       "      border-radius: 50%;\n",
       "      cursor: pointer;\n",
       "      display: none;\n",
       "      fill: #1967D2;\n",
       "      height: 32px;\n",
       "      padding: 0 0 0 0;\n",
       "      width: 32px;\n",
       "    }\n",
       "\n",
       "    .colab-df-convert:hover {\n",
       "      background-color: #E2EBFA;\n",
       "      box-shadow: 0px 1px 2px rgba(60, 64, 67, 0.3), 0px 1px 3px 1px rgba(60, 64, 67, 0.15);\n",
       "      fill: #174EA6;\n",
       "    }\n",
       "\n",
       "    [theme=dark] .colab-df-convert {\n",
       "      background-color: #3B4455;\n",
       "      fill: #D2E3FC;\n",
       "    }\n",
       "\n",
       "    [theme=dark] .colab-df-convert:hover {\n",
       "      background-color: #434B5C;\n",
       "      box-shadow: 0px 1px 3px 1px rgba(0, 0, 0, 0.15);\n",
       "      filter: drop-shadow(0px 1px 2px rgba(0, 0, 0, 0.3));\n",
       "      fill: #FFFFFF;\n",
       "    }\n",
       "  </style>\n",
       "\n",
       "      <script>\n",
       "        const buttonEl =\n",
       "          document.querySelector('#df-6df8f66f-c58a-4ab5-9ba3-7f834ad9fb5d button.colab-df-convert');\n",
       "        buttonEl.style.display =\n",
       "          google.colab.kernel.accessAllowed ? 'block' : 'none';\n",
       "\n",
       "        async function convertToInteractive(key) {\n",
       "          const element = document.querySelector('#df-6df8f66f-c58a-4ab5-9ba3-7f834ad9fb5d');\n",
       "          const dataTable =\n",
       "            await google.colab.kernel.invokeFunction('convertToInteractive',\n",
       "                                                     [key], {});\n",
       "          if (!dataTable) return;\n",
       "\n",
       "          const docLinkHtml = 'Like what you see? Visit the ' +\n",
       "            '<a target=\"_blank\" href=https://colab.research.google.com/notebooks/data_table.ipynb>data table notebook</a>'\n",
       "            + ' to learn more about interactive tables.';\n",
       "          element.innerHTML = '';\n",
       "          dataTable['output_type'] = 'display_data';\n",
       "          await google.colab.output.renderOutput(dataTable, element);\n",
       "          const docLink = document.createElement('div');\n",
       "          docLink.innerHTML = docLinkHtml;\n",
       "          element.appendChild(docLink);\n",
       "        }\n",
       "      </script>\n",
       "    </div>\n",
       "  </div>\n",
       "  "
      ],
      "text/plain": [
       "   Valor Real\n",
       "0           1\n",
       "1           0\n",
       "2           0\n",
       "3           0\n",
       "4           0"
      ]
     },
     "execution_count": 37,
     "metadata": {},
     "output_type": "execute_result"
    }
   ],
   "source": [
    "\n",
    "pd.DataFrame(true_labels, columns = ['Valor Real']).head()"
   ]
  },
  {
   "cell_type": "code",
   "execution_count": 41,
   "metadata": {
    "colab": {
     "base_uri": "https://localhost:8080/",
     "height": 447
    },
    "id": "w9wrGkAiUzBt",
    "outputId": "b85c0478-eaac-42f2-fe84-a6c6ea9badcd"
   },
   "outputs": [
    {
     "data": {
      "text/plain": [
       "<matplotlib.collections.PathCollection at 0x7f15298872e0>"
      ]
     },
     "execution_count": 41,
     "metadata": {},
     "output_type": "execute_result"
    },
    {
     "data": {
      "image/png": "[encoded data removed]",
      "text/plain": [
       "<Figure size 640x480 with 1 Axes>"
      ]
     },
     "metadata": {},
     "output_type": "display_data"
    }
   ],
   "source": [
    "colors = ['maroon', 'forestgreen']\n",
    "vectorizer = np.vectorize(lambda x: colors[x % len(colors)])\n",
    "plt.scatter(features[:,0], features[:,1], c=vectorizer(true_labels))"
   ]
  },
  {
   "cell_type": "code",
   "execution_count": 40,
   "metadata": {
    "id": "AZNoR3IzU1aW"
   },
   "outputs": [],
   "source": [
    "import numpy as np"
   ]
  },
  {
   "cell_type": "code",
   "execution_count": null,
   "metadata": {
    "id": "O1VbfBa5U9r2"
   },
   "outputs": [],
   "source": []
  }
 ],
 "metadata": {
  "colab": {
   "provenance": []
  },
  "kernelspec": {
   "display_name": "Python 3 (ipykernel)",
   "language": "python",
   "name": "python3"
  },
  "language_info": {
   "codemirror_mode": {
    "name": "ipython",
    "version": 3
   },
   "file_extension": ".py",
   "mimetype": "text/x-python",
   "name": "python",
   "nbconvert_exporter": "python",
   "pygments_lexer": "ipython3",
   "version": "3.9.16"
  }
 },
 "nbformat": 4,
 "nbformat_minor": 1
}
