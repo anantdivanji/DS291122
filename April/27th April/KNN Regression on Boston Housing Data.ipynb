{
 "cells": [
  {
   "cell_type": "markdown",
   "id": "7d7a7ea2",
   "metadata": {},
   "source": [
    "## Import the necessary libraries"
   ]
  },
  {
   "cell_type": "code",
   "execution_count": 1,
   "id": "87d3011a",
   "metadata": {},
   "outputs": [],
   "source": [
    "import pandas as pd\n",
    "import numpy as np\n",
    "import matplotlib.pyplot as plt\n",
    "import seaborn as sns\n",
    "import warnings\n",
    "warnings.filterwarnings('ignore')"
   ]
  },
  {
   "cell_type": "markdown",
   "id": "cb5d5b95",
   "metadata": {},
   "source": [
    "## Load the data"
   ]
  },
  {
   "cell_type": "code",
   "execution_count": 2,
   "id": "fbcf77bd",
   "metadata": {},
   "outputs": [
    {
     "data": {
      "text/plain": [
       "{'data': array([[6.3200e-03, 1.8000e+01, 2.3100e+00, ..., 1.5300e+01, 3.9690e+02,\n",
       "         4.9800e+00],\n",
       "        [2.7310e-02, 0.0000e+00, 7.0700e+00, ..., 1.7800e+01, 3.9690e+02,\n",
       "         9.1400e+00],\n",
       "        [2.7290e-02, 0.0000e+00, 7.0700e+00, ..., 1.7800e+01, 3.9283e+02,\n",
       "         4.0300e+00],\n",
       "        ...,\n",
       "        [6.0760e-02, 0.0000e+00, 1.1930e+01, ..., 2.1000e+01, 3.9690e+02,\n",
       "         5.6400e+00],\n",
       "        [1.0959e-01, 0.0000e+00, 1.1930e+01, ..., 2.1000e+01, 3.9345e+02,\n",
       "         6.4800e+00],\n",
       "        [4.7410e-02, 0.0000e+00, 1.1930e+01, ..., 2.1000e+01, 3.9690e+02,\n",
       "         7.8800e+00]]),\n",
       " 'target': array([24. , 21.6, 34.7, 33.4, 36.2, 28.7, 22.9, 27.1, 16.5, 18.9, 15. ,\n",
       "        18.9, 21.7, 20.4, 18.2, 19.9, 23.1, 17.5, 20.2, 18.2, 13.6, 19.6,\n",
       "        15.2, 14.5, 15.6, 13.9, 16.6, 14.8, 18.4, 21. , 12.7, 14.5, 13.2,\n",
       "        13.1, 13.5, 18.9, 20. , 21. , 24.7, 30.8, 34.9, 26.6, 25.3, 24.7,\n",
       "        21.2, 19.3, 20. , 16.6, 14.4, 19.4, 19.7, 20.5, 25. , 23.4, 18.9,\n",
       "        35.4, 24.7, 31.6, 23.3, 19.6, 18.7, 16. , 22.2, 25. , 33. , 23.5,\n",
       "        19.4, 22. , 17.4, 20.9, 24.2, 21.7, 22.8, 23.4, 24.1, 21.4, 20. ,\n",
       "        20.8, 21.2, 20.3, 28. , 23.9, 24.8, 22.9, 23.9, 26.6, 22.5, 22.2,\n",
       "        23.6, 28.7, 22.6, 22. , 22.9, 25. , 20.6, 28.4, 21.4, 38.7, 43.8,\n",
       "        33.2, 27.5, 26.5, 18.6, 19.3, 20.1, 19.5, 19.5, 20.4, 19.8, 19.4,\n",
       "        21.7, 22.8, 18.8, 18.7, 18.5, 18.3, 21.2, 19.2, 20.4, 19.3, 22. ,\n",
       "        20.3, 20.5, 17.3, 18.8, 21.4, 15.7, 16.2, 18. , 14.3, 19.2, 19.6,\n",
       "        23. , 18.4, 15.6, 18.1, 17.4, 17.1, 13.3, 17.8, 14. , 14.4, 13.4,\n",
       "        15.6, 11.8, 13.8, 15.6, 14.6, 17.8, 15.4, 21.5, 19.6, 15.3, 19.4,\n",
       "        17. , 15.6, 13.1, 41.3, 24.3, 23.3, 27. , 50. , 50. , 50. , 22.7,\n",
       "        25. , 50. , 23.8, 23.8, 22.3, 17.4, 19.1, 23.1, 23.6, 22.6, 29.4,\n",
       "        23.2, 24.6, 29.9, 37.2, 39.8, 36.2, 37.9, 32.5, 26.4, 29.6, 50. ,\n",
       "        32. , 29.8, 34.9, 37. , 30.5, 36.4, 31.1, 29.1, 50. , 33.3, 30.3,\n",
       "        34.6, 34.9, 32.9, 24.1, 42.3, 48.5, 50. , 22.6, 24.4, 22.5, 24.4,\n",
       "        20. , 21.7, 19.3, 22.4, 28.1, 23.7, 25. , 23.3, 28.7, 21.5, 23. ,\n",
       "        26.7, 21.7, 27.5, 30.1, 44.8, 50. , 37.6, 31.6, 46.7, 31.5, 24.3,\n",
       "        31.7, 41.7, 48.3, 29. , 24. , 25.1, 31.5, 23.7, 23.3, 22. , 20.1,\n",
       "        22.2, 23.7, 17.6, 18.5, 24.3, 20.5, 24.5, 26.2, 24.4, 24.8, 29.6,\n",
       "        42.8, 21.9, 20.9, 44. , 50. , 36. , 30.1, 33.8, 43.1, 48.8, 31. ,\n",
       "        36.5, 22.8, 30.7, 50. , 43.5, 20.7, 21.1, 25.2, 24.4, 35.2, 32.4,\n",
       "        32. , 33.2, 33.1, 29.1, 35.1, 45.4, 35.4, 46. , 50. , 32.2, 22. ,\n",
       "        20.1, 23.2, 22.3, 24.8, 28.5, 37.3, 27.9, 23.9, 21.7, 28.6, 27.1,\n",
       "        20.3, 22.5, 29. , 24.8, 22. , 26.4, 33.1, 36.1, 28.4, 33.4, 28.2,\n",
       "        22.8, 20.3, 16.1, 22.1, 19.4, 21.6, 23.8, 16.2, 17.8, 19.8, 23.1,\n",
       "        21. , 23.8, 23.1, 20.4, 18.5, 25. , 24.6, 23. , 22.2, 19.3, 22.6,\n",
       "        19.8, 17.1, 19.4, 22.2, 20.7, 21.1, 19.5, 18.5, 20.6, 19. , 18.7,\n",
       "        32.7, 16.5, 23.9, 31.2, 17.5, 17.2, 23.1, 24.5, 26.6, 22.9, 24.1,\n",
       "        18.6, 30.1, 18.2, 20.6, 17.8, 21.7, 22.7, 22.6, 25. , 19.9, 20.8,\n",
       "        16.8, 21.9, 27.5, 21.9, 23.1, 50. , 50. , 50. , 50. , 50. , 13.8,\n",
       "        13.8, 15. , 13.9, 13.3, 13.1, 10.2, 10.4, 10.9, 11.3, 12.3,  8.8,\n",
       "         7.2, 10.5,  7.4, 10.2, 11.5, 15.1, 23.2,  9.7, 13.8, 12.7, 13.1,\n",
       "        12.5,  8.5,  5. ,  6.3,  5.6,  7.2, 12.1,  8.3,  8.5,  5. , 11.9,\n",
       "        27.9, 17.2, 27.5, 15. , 17.2, 17.9, 16.3,  7. ,  7.2,  7.5, 10.4,\n",
       "         8.8,  8.4, 16.7, 14.2, 20.8, 13.4, 11.7,  8.3, 10.2, 10.9, 11. ,\n",
       "         9.5, 14.5, 14.1, 16.1, 14.3, 11.7, 13.4,  9.6,  8.7,  8.4, 12.8,\n",
       "        10.5, 17.1, 18.4, 15.4, 10.8, 11.8, 14.9, 12.6, 14.1, 13. , 13.4,\n",
       "        15.2, 16.1, 17.8, 14.9, 14.1, 12.7, 13.5, 14.9, 20. , 16.4, 17.7,\n",
       "        19.5, 20.2, 21.4, 19.9, 19. , 19.1, 19.1, 20.1, 19.9, 19.6, 23.2,\n",
       "        29.8, 13.8, 13.3, 16.7, 12. , 14.6, 21.4, 23. , 23.7, 25. , 21.8,\n",
       "        20.6, 21.2, 19.1, 20.6, 15.2,  7. ,  8.1, 13.6, 20.1, 21.8, 24.5,\n",
       "        23.1, 19.7, 18.3, 21.2, 17.5, 16.8, 22.4, 20.6, 23.9, 22. , 11.9]),\n",
       " 'feature_names': array(['CRIM', 'ZN', 'INDUS', 'CHAS', 'NOX', 'RM', 'AGE', 'DIS', 'RAD',\n",
       "        'TAX', 'PTRATIO', 'B', 'LSTAT'], dtype='<U7'),\n",
       " 'DESCR': \".. _boston_dataset:\\n\\nBoston house prices dataset\\n---------------------------\\n\\n**Data Set Characteristics:**  \\n\\n    :Number of Instances: 506 \\n\\n    :Number of Attributes: 13 numeric/categorical predictive. Median Value (attribute 14) is usually the target.\\n\\n    :Attribute Information (in order):\\n        - CRIM     per capita crime rate by town\\n        - ZN       proportion of residential land zoned for lots over 25,000 sq.ft.\\n        - INDUS    proportion of non-retail business acres per town\\n        - CHAS     Charles River dummy variable (= 1 if tract bounds river; 0 otherwise)\\n        - NOX      nitric oxides concentration (parts per 10 million)\\n        - RM       average number of rooms per dwelling\\n        - AGE      proportion of owner-occupied units built prior to 1940\\n        - DIS      weighted distances to five Boston employment centres\\n        - RAD      index of accessibility to radial highways\\n        - TAX      full-value property-tax rate per $10,000\\n        - PTRATIO  pupil-teacher ratio by town\\n        - B        1000(Bk - 0.63)^2 where Bk is the proportion of black people by town\\n        - LSTAT    % lower status of the population\\n        - MEDV     Median value of owner-occupied homes in $1000's\\n\\n    :Missing Attribute Values: None\\n\\n    :Creator: Harrison, D. and Rubinfeld, D.L.\\n\\nThis is a copy of UCI ML housing dataset.\\nhttps://archive.ics.uci.edu/ml/machine-learning-databases/housing/\\n\\n\\nThis dataset was taken from the StatLib library which is maintained at Carnegie Mellon University.\\n\\nThe Boston house-price data of Harrison, D. and Rubinfeld, D.L. 'Hedonic\\nprices and the demand for clean air', J. Environ. Economics & Management,\\nvol.5, 81-102, 1978.   Used in Belsley, Kuh & Welsch, 'Regression diagnostics\\n...', Wiley, 1980.   N.B. Various transformations are used in the table on\\npages 244-261 of the latter.\\n\\nThe Boston house-price data has been used in many machine learning papers that address regression\\nproblems.   \\n     \\n.. topic:: References\\n\\n   - Belsley, Kuh & Welsch, 'Regression diagnostics: Identifying Influential Data and Sources of Collinearity', Wiley, 1980. 244-261.\\n   - Quinlan,R. (1993). Combining Instance-Based and Model-Based Learning. In Proceedings on the Tenth International Conference of Machine Learning, 236-243, University of Massachusetts, Amherst. Morgan Kaufmann.\\n\",\n",
       " 'filename': 'boston_house_prices.csv',\n",
       " 'data_module': 'sklearn.datasets.data'}"
      ]
     },
     "execution_count": 2,
     "metadata": {},
     "output_type": "execute_result"
    }
   ],
   "source": [
    "from sklearn.datasets import load_boston\n",
    "boston = load_boston()\n",
    "boston"
   ]
  },
  {
   "cell_type": "code",
   "execution_count": 3,
   "id": "fce27391",
   "metadata": {},
   "outputs": [
    {
     "name": "stdout",
     "output_type": "stream",
     "text": [
      ".. _boston_dataset:\n",
      "\n",
      "Boston house prices dataset\n",
      "---------------------------\n",
      "\n",
      "**Data Set Characteristics:**  \n",
      "\n",
      "    :Number of Instances: 506 \n",
      "\n",
      "    :Number of Attributes: 13 numeric/categorical predictive. Median Value (attribute 14) is usually the target.\n",
      "\n",
      "    :Attribute Information (in order):\n",
      "        - CRIM     per capita crime rate by town\n",
      "        - ZN       proportion of residential land zoned for lots over 25,000 sq.ft.\n",
      "        - INDUS    proportion of non-retail business acres per town\n",
      "        - CHAS     Charles River dummy variable (= 1 if tract bounds river; 0 otherwise)\n",
      "        - NOX      nitric oxides concentration (parts per 10 million)\n",
      "        - RM       average number of rooms per dwelling\n",
      "        - AGE      proportion of owner-occupied units built prior to 1940\n",
      "        - DIS      weighted distances to five Boston employment centres\n",
      "        - RAD      index of accessibility to radial highways\n",
      "        - TAX      full-value property-tax rate per $10,000\n",
      "        - PTRATIO  pupil-teacher ratio by town\n",
      "        - B        1000(Bk - 0.63)^2 where Bk is the proportion of black people by town\n",
      "        - LSTAT    % lower status of the population\n",
      "        - MEDV     Median value of owner-occupied homes in $1000's\n",
      "\n",
      "    :Missing Attribute Values: None\n",
      "\n",
      "    :Creator: Harrison, D. and Rubinfeld, D.L.\n",
      "\n",
      "This is a copy of UCI ML housing dataset.\n",
      "https://archive.ics.uci.edu/ml/machine-learning-databases/housing/\n",
      "\n",
      "\n",
      "This dataset was taken from the StatLib library which is maintained at Carnegie Mellon University.\n",
      "\n",
      "The Boston house-price data of Harrison, D. and Rubinfeld, D.L. 'Hedonic\n",
      "prices and the demand for clean air', J. Environ. Economics & Management,\n",
      "vol.5, 81-102, 1978.   Used in Belsley, Kuh & Welsch, 'Regression diagnostics\n",
      "...', Wiley, 1980.   N.B. Various transformations are used in the table on\n",
      "pages 244-261 of the latter.\n",
      "\n",
      "The Boston house-price data has been used in many machine learning papers that address regression\n",
      "problems.   \n",
      "     \n",
      ".. topic:: References\n",
      "\n",
      "   - Belsley, Kuh & Welsch, 'Regression diagnostics: Identifying Influential Data and Sources of Collinearity', Wiley, 1980. 244-261.\n",
      "   - Quinlan,R. (1993). Combining Instance-Based and Model-Based Learning. In Proceedings on the Tenth International Conference of Machine Learning, 236-243, University of Massachusetts, Amherst. Morgan Kaufmann.\n",
      "\n"
     ]
    }
   ],
   "source": [
    "print(boston.DESCR)"
   ]
  },
  {
   "cell_type": "code",
   "execution_count": 4,
   "id": "ef951f8e",
   "metadata": {},
   "outputs": [
    {
     "data": {
      "text/html": [
       "<div>\n",
       "<style scoped>\n",
       "    .dataframe tbody tr th:only-of-type {\n",
       "        vertical-align: middle;\n",
       "    }\n",
       "\n",
       "    .dataframe tbody tr th {\n",
       "        vertical-align: top;\n",
       "    }\n",
       "\n",
       "    .dataframe thead th {\n",
       "        text-align: right;\n",
       "    }\n",
       "</style>\n",
       "<table border=\"1\" class=\"dataframe\">\n",
       "  <thead>\n",
       "    <tr style=\"text-align: right;\">\n",
       "      <th></th>\n",
       "      <th>CRIM</th>\n",
       "      <th>ZN</th>\n",
       "      <th>INDUS</th>\n",
       "      <th>CHAS</th>\n",
       "      <th>NOX</th>\n",
       "      <th>RM</th>\n",
       "      <th>AGE</th>\n",
       "      <th>DIS</th>\n",
       "      <th>RAD</th>\n",
       "      <th>TAX</th>\n",
       "      <th>PTRATIO</th>\n",
       "      <th>B</th>\n",
       "      <th>LSTAT</th>\n",
       "      <th>price</th>\n",
       "    </tr>\n",
       "  </thead>\n",
       "  <tbody>\n",
       "    <tr>\n",
       "      <th>0</th>\n",
       "      <td>0.00632</td>\n",
       "      <td>18.0</td>\n",
       "      <td>2.31</td>\n",
       "      <td>0.0</td>\n",
       "      <td>0.538</td>\n",
       "      <td>6.575</td>\n",
       "      <td>65.2</td>\n",
       "      <td>4.0900</td>\n",
       "      <td>1.0</td>\n",
       "      <td>296.0</td>\n",
       "      <td>15.3</td>\n",
       "      <td>396.90</td>\n",
       "      <td>4.98</td>\n",
       "      <td>24.0</td>\n",
       "    </tr>\n",
       "    <tr>\n",
       "      <th>1</th>\n",
       "      <td>0.02731</td>\n",
       "      <td>0.0</td>\n",
       "      <td>7.07</td>\n",
       "      <td>0.0</td>\n",
       "      <td>0.469</td>\n",
       "      <td>6.421</td>\n",
       "      <td>78.9</td>\n",
       "      <td>4.9671</td>\n",
       "      <td>2.0</td>\n",
       "      <td>242.0</td>\n",
       "      <td>17.8</td>\n",
       "      <td>396.90</td>\n",
       "      <td>9.14</td>\n",
       "      <td>21.6</td>\n",
       "    </tr>\n",
       "    <tr>\n",
       "      <th>2</th>\n",
       "      <td>0.02729</td>\n",
       "      <td>0.0</td>\n",
       "      <td>7.07</td>\n",
       "      <td>0.0</td>\n",
       "      <td>0.469</td>\n",
       "      <td>7.185</td>\n",
       "      <td>61.1</td>\n",
       "      <td>4.9671</td>\n",
       "      <td>2.0</td>\n",
       "      <td>242.0</td>\n",
       "      <td>17.8</td>\n",
       "      <td>392.83</td>\n",
       "      <td>4.03</td>\n",
       "      <td>34.7</td>\n",
       "    </tr>\n",
       "    <tr>\n",
       "      <th>3</th>\n",
       "      <td>0.03237</td>\n",
       "      <td>0.0</td>\n",
       "      <td>2.18</td>\n",
       "      <td>0.0</td>\n",
       "      <td>0.458</td>\n",
       "      <td>6.998</td>\n",
       "      <td>45.8</td>\n",
       "      <td>6.0622</td>\n",
       "      <td>3.0</td>\n",
       "      <td>222.0</td>\n",
       "      <td>18.7</td>\n",
       "      <td>394.63</td>\n",
       "      <td>2.94</td>\n",
       "      <td>33.4</td>\n",
       "    </tr>\n",
       "    <tr>\n",
       "      <th>4</th>\n",
       "      <td>0.06905</td>\n",
       "      <td>0.0</td>\n",
       "      <td>2.18</td>\n",
       "      <td>0.0</td>\n",
       "      <td>0.458</td>\n",
       "      <td>7.147</td>\n",
       "      <td>54.2</td>\n",
       "      <td>6.0622</td>\n",
       "      <td>3.0</td>\n",
       "      <td>222.0</td>\n",
       "      <td>18.7</td>\n",
       "      <td>396.90</td>\n",
       "      <td>5.33</td>\n",
       "      <td>36.2</td>\n",
       "    </tr>\n",
       "  </tbody>\n",
       "</table>\n",
       "</div>"
      ],
      "text/plain": [
       "      CRIM    ZN  INDUS  CHAS    NOX     RM   AGE     DIS  RAD    TAX  \\\n",
       "0  0.00632  18.0   2.31   0.0  0.538  6.575  65.2  4.0900  1.0  296.0   \n",
       "1  0.02731   0.0   7.07   0.0  0.469  6.421  78.9  4.9671  2.0  242.0   \n",
       "2  0.02729   0.0   7.07   0.0  0.469  7.185  61.1  4.9671  2.0  242.0   \n",
       "3  0.03237   0.0   2.18   0.0  0.458  6.998  45.8  6.0622  3.0  222.0   \n",
       "4  0.06905   0.0   2.18   0.0  0.458  7.147  54.2  6.0622  3.0  222.0   \n",
       "\n",
       "   PTRATIO       B  LSTAT  price  \n",
       "0     15.3  396.90   4.98   24.0  \n",
       "1     17.8  396.90   9.14   21.6  \n",
       "2     17.8  392.83   4.03   34.7  \n",
       "3     18.7  394.63   2.94   33.4  \n",
       "4     18.7  396.90   5.33   36.2  "
      ]
     },
     "execution_count": 4,
     "metadata": {},
     "output_type": "execute_result"
    }
   ],
   "source": [
    "df_boston = pd.DataFrame(boston.data, columns = boston.feature_names)\n",
    "df_boston['price'] = pd.Series(boston.target)\n",
    "df_boston.head()"
   ]
  },
  {
   "cell_type": "code",
   "execution_count": 5,
   "id": "8ca6466b",
   "metadata": {},
   "outputs": [
    {
     "data": {
      "text/plain": [
       "(506, 14)"
      ]
     },
     "execution_count": 5,
     "metadata": {},
     "output_type": "execute_result"
    }
   ],
   "source": [
    "df_boston.shape"
   ]
  },
  {
   "cell_type": "markdown",
   "id": "5cb88805",
   "metadata": {},
   "source": [
    "## Check for missing values"
   ]
  },
  {
   "cell_type": "code",
   "execution_count": 6,
   "id": "ff44229a",
   "metadata": {},
   "outputs": [
    {
     "data": {
      "text/plain": [
       "CRIM       0\n",
       "ZN         0\n",
       "INDUS      0\n",
       "CHAS       0\n",
       "NOX        0\n",
       "RM         0\n",
       "AGE        0\n",
       "DIS        0\n",
       "RAD        0\n",
       "TAX        0\n",
       "PTRATIO    0\n",
       "B          0\n",
       "LSTAT      0\n",
       "price      0\n",
       "dtype: int64"
      ]
     },
     "execution_count": 6,
     "metadata": {},
     "output_type": "execute_result"
    }
   ],
   "source": [
    "df_boston.isnull().sum()"
   ]
  },
  {
   "cell_type": "markdown",
   "id": "e5db3dac",
   "metadata": {},
   "source": [
    "## Divide the data into X and y"
   ]
  },
  {
   "cell_type": "code",
   "execution_count": 7,
   "id": "2bb44f15",
   "metadata": {},
   "outputs": [],
   "source": [
    "X = df_boston.drop('price', axis = 1)\n",
    "y = df_boston['price']"
   ]
  },
  {
   "cell_type": "markdown",
   "id": "bc43753b",
   "metadata": {},
   "source": [
    "## Divide the data into train data and test data"
   ]
  },
  {
   "cell_type": "code",
   "execution_count": 43,
   "id": "ff7ae5c0",
   "metadata": {},
   "outputs": [
    {
     "data": {
      "text/plain": [
       "((354, 13), (152, 13))"
      ]
     },
     "execution_count": 43,
     "metadata": {},
     "output_type": "execute_result"
    }
   ],
   "source": [
    "from sklearn.model_selection import train_test_split\n",
    "X_train, X_test, y_train, y_test = train_test_split(X, y, test_size = 0.30)\n",
    "X_train.shape, X_test.shape"
   ]
  },
  {
   "cell_type": "markdown",
   "id": "faf818ef",
   "metadata": {},
   "source": [
    "## Perform Feature Scaling"
   ]
  },
  {
   "cell_type": "code",
   "execution_count": 44,
   "id": "64ebcc87",
   "metadata": {},
   "outputs": [
    {
     "data": {
      "text/plain": [
       "array([[-0.42243455,  0.69964561,  0.61683909, ..., -0.12393825,\n",
       "         0.4320693 , -0.92844216],\n",
       "       [-0.41632593,  0.78458201, -0.88748801, ..., -0.8644301 ,\n",
       "         0.24895288, -0.90705663],\n",
       "       [-0.41084876, -0.48946401, -0.13160456, ..., -0.30906121,\n",
       "        -0.19238798,  0.37750094],\n",
       "       ...,\n",
       "       [-0.40393688,  0.44483641, -0.74910777, ...,  0.29258841,\n",
       "         0.35414742,  0.81804288],\n",
       "       [-0.42172117,  2.90799204, -0.88451209, ...,  0.33886915,\n",
       "         0.43823812, -1.33904436],\n",
       "       [ 0.50176483, -0.48946401,  1.07215472, ...,  0.80167655,\n",
       "         0.43823812,  1.15878568]])"
      ]
     },
     "execution_count": 44,
     "metadata": {},
     "output_type": "execute_result"
    }
   ],
   "source": [
    "from sklearn.preprocessing import StandardScaler\n",
    "\n",
    "ss = StandardScaler()\n",
    "\n",
    "ss.fit_transform(X_train)"
   ]
  },
  {
   "cell_type": "code",
   "execution_count": 45,
   "id": "3bb230ea",
   "metadata": {},
   "outputs": [
    {
     "data": {
      "text/plain": [
       "array([[-0.26168504, -0.48383697,  1.43066898, ...,  1.27944251,\n",
       "         0.44823387, -0.0313518 ],\n",
       "       [-0.31346705, -0.48383697, -0.50003345, ...,  1.18716481,\n",
       "         0.34682389,  0.04158913],\n",
       "       [-0.20451336, -0.48383697,  1.10631097, ..., -1.71958288,\n",
       "         0.17546819,  0.21718767],\n",
       "       ...,\n",
       "       [ 0.19519517, -0.48383697,  0.89849718, ...,  0.81805399,\n",
       "         0.20625336, -1.24703404],\n",
       "       [-0.30980242, -0.48383697, -0.50003345, ...,  1.18716481,\n",
       "        -0.77309995, -0.10834501],\n",
       "       [-0.40564507,  1.93824509, -1.11224164, ..., -0.38155617,\n",
       "         0.44823387, -0.71753689]])"
      ]
     },
     "execution_count": 45,
     "metadata": {},
     "output_type": "execute_result"
    }
   ],
   "source": [
    "ss.fit_transform(X_test)"
   ]
  },
  {
   "cell_type": "markdown",
   "id": "51a5c1e4",
   "metadata": {},
   "source": [
    "## Apply KNN Regressor on train data"
   ]
  },
  {
   "cell_type": "code",
   "execution_count": 46,
   "id": "4b9b4283",
   "metadata": {},
   "outputs": [
    {
     "data": {
      "text/plain": [
       "KNeighborsRegressor(n_neighbors=21)"
      ]
     },
     "execution_count": 46,
     "metadata": {},
     "output_type": "execute_result"
    }
   ],
   "source": [
    "from sklearn.neighbors import KNeighborsRegressor\n",
    "model = KNeighborsRegressor(n_neighbors = 21, metric = 'minkowski', p = 2)\n",
    "model.fit(X_train, y_train)"
   ]
  },
  {
   "cell_type": "markdown",
   "id": "20685121",
   "metadata": {},
   "source": [
    "## Perform prediction on test data"
   ]
  },
  {
   "cell_type": "code",
   "execution_count": 47,
   "id": "3420472e",
   "metadata": {},
   "outputs": [
    {
     "data": {
      "text/plain": [
       "array([20.91428571, 23.01428571, 23.6047619 , 23.6047619 , 23.10952381,\n",
       "       13.11904762, 12.35714286, 18.00952381, 25.92857143, 20.34285714,\n",
       "       26.07619048, 26.20952381, 25.96666667, 27.17142857, 23.46190476,\n",
       "       26.9047619 , 19.52857143, 28.3       , 20.        , 22.88571429,\n",
       "       26.41428571, 26.75238095, 29.17619048, 20.68095238, 26.31428571,\n",
       "       23.0952381 , 25.75238095, 17.57142857, 27.70952381, 20.91428571,\n",
       "       25.33333333, 27.15238095, 31.22380952, 15.51428571, 26.80952381,\n",
       "       17.16190476, 31.17142857, 24.1       , 22.56666667, 21.86190476,\n",
       "       25.08095238, 12.35714286, 19.56190476, 16.11904762, 27.54761905,\n",
       "       22.56666667, 16.81428571, 22.86190476, 12.32380952, 23.6047619 ,\n",
       "       23.02380952, 20.91428571, 25.34761905, 24.34761905, 20.74285714,\n",
       "       19.70952381, 12.94761905, 27.39047619, 21.88095238, 24.4047619 ,\n",
       "       28.18095238, 23.79047619, 24.05238095, 25.19047619, 24.93809524,\n",
       "       11.53809524, 29.77142857, 22.22857143, 23.5       , 22.16666667,\n",
       "       23.3       , 21.23333333, 26.51428571, 25.6       , 24.6047619 ,\n",
       "       23.57619048, 22.00952381, 23.93809524, 27.11428571, 15.25238095,\n",
       "       26.53333333, 16.02380952, 22.73333333, 28.02857143, 25.68095238,\n",
       "       21.56190476, 26.5952381 , 14.66666667, 25.19047619, 18.00952381,\n",
       "       25.17142857, 25.54761905, 19.68571429, 23.64761905, 25.32380952,\n",
       "       25.32380952, 27.46666667, 23.58095238, 25.19047619, 23.14285714,\n",
       "       27.54761905, 20.02857143, 24.55714286, 25.33809524, 12.32380952,\n",
       "       25.01428571, 12.6952381 , 16.88095238, 24.85238095, 23.14761905,\n",
       "       23.0047619 , 22.77619048, 17.95238095, 26.59047619, 17.10952381,\n",
       "       12.63809524, 25.96666667, 12.54761905, 25.66666667, 23.62857143,\n",
       "       22.98571429, 15.90952381, 28.02380952, 24.18095238, 12.14285714,\n",
       "       25.19047619, 31.56190476, 25.91904762, 27.82857143, 13.55238095,\n",
       "       28.77142857, 18.02380952, 21.86666667, 24.5047619 , 15.51428571,\n",
       "       24.35714286, 26.76666667, 21.5047619 , 24.96190476, 25.0952381 ,\n",
       "       12.63809524, 23.39047619, 18.38571429, 15.4047619 , 25.91904762,\n",
       "       12.32380952, 26.83333333, 32.65238095, 24.24761905, 22.02857143,\n",
       "       23.01904762, 26.9952381 ])"
      ]
     },
     "execution_count": 47,
     "metadata": {},
     "output_type": "execute_result"
    }
   ],
   "source": [
    "y_pred = model.predict(X_test)\n",
    "y_pred"
   ]
  },
  {
   "cell_type": "markdown",
   "id": "4bc7c823",
   "metadata": {},
   "source": [
    "## Comparision between the prediction and test set results"
   ]
  },
  {
   "cell_type": "code",
   "execution_count": 48,
   "id": "56291996",
   "metadata": {},
   "outputs": [
    {
     "name": "stdout",
     "output_type": "stream",
     "text": [
      "[[20.91428571 19.6       ]\n",
      " [23.01428571 18.4       ]\n",
      " [23.6047619  21.5       ]\n",
      " [23.6047619  15.3       ]\n",
      " [23.10952381 14.6       ]\n",
      " [13.11904762 27.5       ]\n",
      " [12.35714286  8.8       ]\n",
      " [18.00952381 14.9       ]\n",
      " [25.92857143 19.5       ]\n",
      " [20.34285714 23.2       ]\n",
      " [26.07619048 25.2       ]\n",
      " [26.20952381 21.9       ]\n",
      " [25.96666667 29.8       ]\n",
      " [27.17142857 36.2       ]\n",
      " [23.46190476 21.2       ]\n",
      " [26.9047619  22.        ]\n",
      " [19.52857143 19.9       ]\n",
      " [28.3        31.5       ]\n",
      " [20.         18.3       ]\n",
      " [22.88571429 19.3       ]\n",
      " [26.41428571 35.2       ]\n",
      " [26.75238095 20.7       ]\n",
      " [29.17619048 16.6       ]\n",
      " [20.68095238 19.1       ]\n",
      " [26.31428571 23.7       ]\n",
      " [23.0952381  22.6       ]\n",
      " [25.75238095 33.2       ]\n",
      " [17.57142857 15.2       ]\n",
      " [27.70952381 27.5       ]\n",
      " [20.91428571 14.4       ]\n",
      " [25.33333333 15.7       ]\n",
      " [27.15238095 21.6       ]\n",
      " [31.22380952 34.9       ]\n",
      " [15.51428571 13.1       ]\n",
      " [26.80952381 17.6       ]\n",
      " [17.16190476 13.8       ]\n",
      " [31.17142857 20.1       ]\n",
      " [24.1        20.        ]\n",
      " [22.56666667 19.4       ]\n",
      " [21.86190476 13.6       ]\n",
      " [25.08095238 20.6       ]\n",
      " [12.35714286 15.        ]\n",
      " [19.56190476 21.4       ]\n",
      " [16.11904762 14.1       ]\n",
      " [27.54761905 37.2       ]\n",
      " [22.56666667 25.        ]\n",
      " [16.81428571 12.6       ]\n",
      " [22.86190476 19.8       ]\n",
      " [12.32380952  7.5       ]\n",
      " [23.6047619  50.        ]\n",
      " [23.02380952 23.1       ]\n",
      " [20.91428571 14.        ]\n",
      " [25.34761905 23.3       ]\n",
      " [24.34761905 24.4       ]\n",
      " [20.74285714 22.6       ]\n",
      " [19.70952381 13.2       ]\n",
      " [12.94761905  9.7       ]\n",
      " [27.39047619 29.        ]\n",
      " [21.88095238 25.        ]\n",
      " [24.4047619  17.1       ]\n",
      " [28.18095238 33.4       ]\n",
      " [23.79047619 22.3       ]\n",
      " [24.05238095 22.4       ]\n",
      " [25.19047619 24.8       ]\n",
      " [24.93809524 20.4       ]\n",
      " [11.53809524 13.8       ]\n",
      " [29.77142857 48.8       ]\n",
      " [22.22857143 17.5       ]\n",
      " [23.5        23.3       ]\n",
      " [22.16666667 20.6       ]\n",
      " [23.3        17.8       ]\n",
      " [21.23333333 14.5       ]\n",
      " [26.51428571 32.4       ]\n",
      " [25.6        11.9       ]\n",
      " [24.6047619  23.2       ]\n",
      " [23.57619048 19.1       ]\n",
      " [22.00952381 14.5       ]\n",
      " [23.93809524 33.2       ]\n",
      " [27.11428571 36.1       ]\n",
      " [15.25238095  8.5       ]\n",
      " [26.53333333 43.5       ]\n",
      " [16.02380952 16.4       ]\n",
      " [22.73333333 23.        ]\n",
      " [28.02857143 22.5       ]\n",
      " [25.68095238 22.        ]\n",
      " [21.56190476 19.6       ]\n",
      " [26.5952381  23.9       ]\n",
      " [14.66666667 12.8       ]\n",
      " [25.19047619 42.8       ]\n",
      " [18.00952381 17.2       ]\n",
      " [25.17142857 22.2       ]\n",
      " [25.54761905 23.        ]\n",
      " [19.68571429 20.1       ]\n",
      " [23.64761905 23.3       ]\n",
      " [25.32380952 28.6       ]\n",
      " [25.32380952 21.7       ]\n",
      " [27.46666667 34.9       ]\n",
      " [23.58095238 41.3       ]\n",
      " [25.19047619 29.6       ]\n",
      " [23.14285714 18.3       ]\n",
      " [27.54761905 50.        ]\n",
      " [20.02857143 20.1       ]\n",
      " [24.55714286 23.3       ]\n",
      " [25.33809524 22.6       ]\n",
      " [12.32380952  7.2       ]\n",
      " [25.01428571 21.        ]\n",
      " [12.6952381  10.2       ]\n",
      " [16.88095238 13.6       ]\n",
      " [24.85238095 26.6       ]\n",
      " [23.14761905 19.8       ]\n",
      " [23.0047619  13.4       ]\n",
      " [22.77619048 19.2       ]\n",
      " [17.95238095 15.1       ]\n",
      " [26.59047619 24.6       ]\n",
      " [17.10952381 12.5       ]\n",
      " [12.63809524 16.1       ]\n",
      " [25.96666667 36.4       ]\n",
      " [12.54761905 11.8       ]\n",
      " [25.66666667 28.7       ]\n",
      " [23.62857143 24.1       ]\n",
      " [22.98571429 27.5       ]\n",
      " [15.90952381 20.8       ]\n",
      " [28.02380952 24.8       ]\n",
      " [24.18095238 19.7       ]\n",
      " [12.14285714 13.8       ]\n",
      " [25.19047619 26.2       ]\n",
      " [31.56190476 50.        ]\n",
      " [25.91904762 21.4       ]\n",
      " [27.82857143 23.1       ]\n",
      " [13.55238095 12.3       ]\n",
      " [28.77142857 31.1       ]\n",
      " [18.02380952 16.1       ]\n",
      " [21.86666667 19.9       ]\n",
      " [24.5047619  20.6       ]\n",
      " [15.51428571 15.6       ]\n",
      " [24.35714286 27.        ]\n",
      " [26.76666667 46.        ]\n",
      " [21.5047619  24.        ]\n",
      " [24.96190476 26.5       ]\n",
      " [25.0952381  21.2       ]\n",
      " [12.63809524 14.3       ]\n",
      " [23.39047619 17.4       ]\n",
      " [18.38571429 19.6       ]\n",
      " [15.4047619  12.7       ]\n",
      " [25.91904762 39.8       ]\n",
      " [12.32380952  9.6       ]\n",
      " [26.83333333 33.1       ]\n",
      " [32.65238095 48.5       ]\n",
      " [24.24761905 19.4       ]\n",
      " [22.02857143 50.        ]\n",
      " [23.01904762 20.2       ]\n",
      " [26.9952381  23.9       ]]\n"
     ]
    }
   ],
   "source": [
    "y_test = y_test.values\n",
    "print(np.concatenate((y_pred.reshape(len(y_pred), 1), y_test.reshape(len(y_test), 1)), 1))"
   ]
  },
  {
   "cell_type": "markdown",
   "id": "daf1371a",
   "metadata": {},
   "source": [
    "## Evaluation Metrics"
   ]
  },
  {
   "cell_type": "code",
   "execution_count": 49,
   "id": "1ee59a3b",
   "metadata": {},
   "outputs": [
    {
     "data": {
      "text/plain": [
       "51.0968000358038"
      ]
     },
     "execution_count": 49,
     "metadata": {},
     "output_type": "execute_result"
    }
   ],
   "source": [
    "from sklearn.metrics import mean_squared_error\n",
    "mse = mean_squared_error(y_pred, y_test, squared = True)\n",
    "mse"
   ]
  },
  {
   "cell_type": "code",
   "execution_count": 50,
   "id": "b822ef18",
   "metadata": {},
   "outputs": [
    {
     "data": {
      "text/plain": [
       "7.1482025737806145"
      ]
     },
     "execution_count": 50,
     "metadata": {},
     "output_type": "execute_result"
    }
   ],
   "source": [
    "rmse = np.sqrt(mse)\n",
    "rmse"
   ]
  },
  {
   "cell_type": "code",
   "execution_count": 51,
   "id": "b2c90f4b",
   "metadata": {},
   "outputs": [
    {
     "data": {
      "text/plain": [
       "7.1482025737806145"
      ]
     },
     "execution_count": 51,
     "metadata": {},
     "output_type": "execute_result"
    }
   ],
   "source": [
    "rmse = mean_squared_error(y_pred, y_test, squared = False)\n",
    "rmse"
   ]
  },
  {
   "cell_type": "code",
   "execution_count": 52,
   "id": "b18fff84",
   "metadata": {},
   "outputs": [
    {
     "data": {
      "text/plain": [
       "-1.2691364274365688"
      ]
     },
     "execution_count": 52,
     "metadata": {},
     "output_type": "execute_result"
    }
   ],
   "source": [
    "from sklearn.metrics import r2_score\n",
    "r2 = r2_score(y_pred, y_test)\n",
    "r2"
   ]
  },
  {
   "cell_type": "code",
   "execution_count": 54,
   "id": "11abcc1d",
   "metadata": {},
   "outputs": [
    {
     "data": {
      "text/plain": [
       "5.0548872180451125"
      ]
     },
     "execution_count": 54,
     "metadata": {},
     "output_type": "execute_result"
    }
   ],
   "source": [
    "from sklearn.metrics import mean_absolute_error\n",
    "mae = mean_absolute_error(y_pred, y_test)\n",
    "mae"
   ]
  },
  {
   "cell_type": "code",
   "execution_count": null,
   "id": "2c5f4a0d",
   "metadata": {},
   "outputs": [],
   "source": []
  }
 ],
 "metadata": {
  "kernelspec": {
   "display_name": "Python 3 (ipykernel)",
   "language": "python",
   "name": "python3"
  },
  "language_info": {
   "codemirror_mode": {
    "name": "ipython",
    "version": 3
   },
   "file_extension": ".py",
   "mimetype": "text/x-python",
   "name": "python",
   "nbconvert_exporter": "python",
   "pygments_lexer": "ipython3",
   "version": "3.9.12"
  }
 },
 "nbformat": 4,
 "nbformat_minor": 5
}
