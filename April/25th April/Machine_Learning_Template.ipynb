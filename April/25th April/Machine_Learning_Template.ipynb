{
 "cells": [
  {
   "cell_type": "markdown",
   "id": "1e71b1e5",
   "metadata": {},
   "source": [
    "## Step 1 : Import the standard libraries"
   ]
  },
  {
   "cell_type": "markdown",
   "id": "a42a8018",
   "metadata": {},
   "source": [
    "## Step 2: Loading the dataset\n",
    "###  Identifying the dependent(target) variable)"
   ]
  },
  {
   "cell_type": "markdown",
   "id": "9c77a878",
   "metadata": {},
   "source": [
    "## Step 3: Data preprocessing"
   ]
  },
  {
   "cell_type": "markdown",
   "id": "7d2afb24",
   "metadata": {},
   "source": [
    "## Step 4: Seperate X(Independent variables) and y(Dependent Variable)"
   ]
  },
  {
   "cell_type": "markdown",
   "id": "d2e19a61",
   "metadata": {},
   "source": [
    "## Step 5: Divide the data into train set and test set"
   ]
  },
  {
   "cell_type": "markdown",
   "id": "3e251623",
   "metadata": {},
   "source": [
    "## Step 6: Fit ML model on X_train and y_train"
   ]
  },
  {
   "cell_type": "markdown",
   "id": "ffea8b5d",
   "metadata": {},
   "source": [
    "## Step 7: Perform predictions on X_test"
   ]
  },
  {
   "cell_type": "markdown",
   "id": "930ef5b9",
   "metadata": {},
   "source": [
    "## Step 8: Performance Evaluation"
   ]
  }
 ],
 "metadata": {
  "kernelspec": {
   "display_name": "Python 3 (ipykernel)",
   "language": "python",
   "name": "python3"
  },
  "language_info": {
   "codemirror_mode": {
    "name": "ipython",
    "version": 3
   },
   "file_extension": ".py",
   "mimetype": "text/x-python",
   "name": "python",
   "nbconvert_exporter": "python",
   "pygments_lexer": "ipython3",
   "version": "3.9.16"
  }
 },
 "nbformat": 4,
 "nbformat_minor": 5
}
