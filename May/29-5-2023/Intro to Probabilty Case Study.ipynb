{
 "cells": [
  {
   "cell_type": "markdown",
   "id": "256e8c7a",
   "metadata": {},
   "source": [
    "## Loading the standard libraries"
   ]
  },
  {
   "cell_type": "code",
   "execution_count": 1,
   "id": "05ca0358",
   "metadata": {},
   "outputs": [],
   "source": [
    "import pandas as pd\n",
    "import numpy as np"
   ]
  },
  {
   "cell_type": "markdown",
   "id": "13020f54",
   "metadata": {},
   "source": [
    "## Loading the data"
   ]
  },
  {
   "cell_type": "code",
   "execution_count": 2,
   "id": "5b18b630",
   "metadata": {},
   "outputs": [
    {
     "data": {
      "text/html": [
       "<div>\n",
       "<style scoped>\n",
       "    .dataframe tbody tr th:only-of-type {\n",
       "        vertical-align: middle;\n",
       "    }\n",
       "\n",
       "    .dataframe tbody tr th {\n",
       "        vertical-align: top;\n",
       "    }\n",
       "\n",
       "    .dataframe thead th {\n",
       "        text-align: right;\n",
       "    }\n",
       "</style>\n",
       "<table border=\"1\" class=\"dataframe\">\n",
       "  <thead>\n",
       "    <tr style=\"text-align: right;\">\n",
       "      <th></th>\n",
       "      <th>runs</th>\n",
       "      <th>NotOut</th>\n",
       "      <th>mins</th>\n",
       "      <th>bf</th>\n",
       "      <th>fours</th>\n",
       "      <th>sixes</th>\n",
       "      <th>sr</th>\n",
       "      <th>Inns</th>\n",
       "      <th>Opp</th>\n",
       "      <th>Ground</th>\n",
       "      <th>Date</th>\n",
       "      <th>Winner</th>\n",
       "      <th>Won</th>\n",
       "      <th>century</th>\n",
       "    </tr>\n",
       "  </thead>\n",
       "  <tbody>\n",
       "    <tr>\n",
       "      <th>0</th>\n",
       "      <td>13</td>\n",
       "      <td>0</td>\n",
       "      <td>30</td>\n",
       "      <td>15</td>\n",
       "      <td>3</td>\n",
       "      <td>0</td>\n",
       "      <td>86.66</td>\n",
       "      <td>1</td>\n",
       "      <td>New Zealand</td>\n",
       "      <td>Napier</td>\n",
       "      <td>1995-02-16</td>\n",
       "      <td>New Zealand</td>\n",
       "      <td>False</td>\n",
       "      <td>False</td>\n",
       "    </tr>\n",
       "    <tr>\n",
       "      <th>1</th>\n",
       "      <td>37</td>\n",
       "      <td>0</td>\n",
       "      <td>75</td>\n",
       "      <td>51</td>\n",
       "      <td>3</td>\n",
       "      <td>1</td>\n",
       "      <td>72.54</td>\n",
       "      <td>2</td>\n",
       "      <td>South Africa</td>\n",
       "      <td>Hamilton</td>\n",
       "      <td>1995-02-18</td>\n",
       "      <td>South Africa</td>\n",
       "      <td>False</td>\n",
       "      <td>False</td>\n",
       "    </tr>\n",
       "    <tr>\n",
       "      <th>2</th>\n",
       "      <td>47</td>\n",
       "      <td>0</td>\n",
       "      <td>65</td>\n",
       "      <td>40</td>\n",
       "      <td>7</td>\n",
       "      <td>0</td>\n",
       "      <td>117.50</td>\n",
       "      <td>2</td>\n",
       "      <td>Australia</td>\n",
       "      <td>Dunedin</td>\n",
       "      <td>1995-02-22</td>\n",
       "      <td>India</td>\n",
       "      <td>True</td>\n",
       "      <td>False</td>\n",
       "    </tr>\n",
       "    <tr>\n",
       "      <th>3</th>\n",
       "      <td>48</td>\n",
       "      <td>0</td>\n",
       "      <td>37</td>\n",
       "      <td>30</td>\n",
       "      <td>9</td>\n",
       "      <td>1</td>\n",
       "      <td>160.00</td>\n",
       "      <td>2</td>\n",
       "      <td>Bangladesh</td>\n",
       "      <td>Sharjah</td>\n",
       "      <td>1995-04-05</td>\n",
       "      <td>India</td>\n",
       "      <td>True</td>\n",
       "      <td>False</td>\n",
       "    </tr>\n",
       "    <tr>\n",
       "      <th>4</th>\n",
       "      <td>4</td>\n",
       "      <td>0</td>\n",
       "      <td>13</td>\n",
       "      <td>9</td>\n",
       "      <td>1</td>\n",
       "      <td>0</td>\n",
       "      <td>44.44</td>\n",
       "      <td>2</td>\n",
       "      <td>Pakistan</td>\n",
       "      <td>Sharjah</td>\n",
       "      <td>1995-04-07</td>\n",
       "      <td>Pakistan</td>\n",
       "      <td>False</td>\n",
       "      <td>False</td>\n",
       "    </tr>\n",
       "  </tbody>\n",
       "</table>\n",
       "</div>"
      ],
      "text/plain": [
       "   runs  NotOut mins  bf  fours  sixes      sr  Inns           Opp    Ground  \\\n",
       "0    13       0   30  15      3      0   86.66     1   New Zealand    Napier   \n",
       "1    37       0   75  51      3      1   72.54     2  South Africa  Hamilton   \n",
       "2    47       0   65  40      7      0  117.50     2     Australia   Dunedin   \n",
       "3    48       0   37  30      9      1  160.00     2    Bangladesh   Sharjah   \n",
       "4     4       0   13   9      1      0   44.44     2      Pakistan   Sharjah   \n",
       "\n",
       "         Date        Winner    Won  century  \n",
       "0  1995-02-16   New Zealand  False    False  \n",
       "1  1995-02-18  South Africa  False    False  \n",
       "2  1995-02-22         India   True    False  \n",
       "3  1995-04-05         India   True    False  \n",
       "4  1995-04-07      Pakistan  False    False  "
      ]
     },
     "execution_count": 2,
     "metadata": {},
     "output_type": "execute_result"
    }
   ],
   "source": [
    "data = pd.read_csv('Sachin_ODI.csv')\n",
    "data.head()"
   ]
  },
  {
   "cell_type": "code",
   "execution_count": 3,
   "id": "4a3c1f13",
   "metadata": {},
   "outputs": [
    {
     "data": {
      "text/plain": [
       "(360, 14)"
      ]
     },
     "execution_count": 3,
     "metadata": {},
     "output_type": "execute_result"
    }
   ],
   "source": [
    "data.shape"
   ]
  },
  {
   "cell_type": "markdown",
   "id": "37d40a81",
   "metadata": {},
   "source": [
    "## Observations:\n",
    "\n",
    "- We are looking at 360 ODI matches played by Sachin\n",
    "- sr means strike rate\n",
    "- bf means balls faced"
   ]
  },
  {
   "cell_type": "code",
   "execution_count": 4,
   "id": "390f9edd",
   "metadata": {},
   "outputs": [
    {
     "data": {
      "text/html": [
       "<div>\n",
       "<style scoped>\n",
       "    .dataframe tbody tr th:only-of-type {\n",
       "        vertical-align: middle;\n",
       "    }\n",
       "\n",
       "    .dataframe tbody tr th {\n",
       "        vertical-align: top;\n",
       "    }\n",
       "\n",
       "    .dataframe thead th {\n",
       "        text-align: right;\n",
       "    }\n",
       "</style>\n",
       "<table border=\"1\" class=\"dataframe\">\n",
       "  <thead>\n",
       "    <tr style=\"text-align: right;\">\n",
       "      <th></th>\n",
       "      <th>runs</th>\n",
       "      <th>NotOut</th>\n",
       "      <th>mins</th>\n",
       "      <th>bf</th>\n",
       "      <th>fours</th>\n",
       "      <th>sixes</th>\n",
       "      <th>sr</th>\n",
       "      <th>Inns</th>\n",
       "      <th>Opp</th>\n",
       "      <th>Winner</th>\n",
       "      <th>Won</th>\n",
       "      <th>century</th>\n",
       "    </tr>\n",
       "  </thead>\n",
       "  <tbody>\n",
       "    <tr>\n",
       "      <th>0</th>\n",
       "      <td>13</td>\n",
       "      <td>0</td>\n",
       "      <td>30</td>\n",
       "      <td>15</td>\n",
       "      <td>3</td>\n",
       "      <td>0</td>\n",
       "      <td>86.66</td>\n",
       "      <td>1</td>\n",
       "      <td>New Zealand</td>\n",
       "      <td>New Zealand</td>\n",
       "      <td>False</td>\n",
       "      <td>False</td>\n",
       "    </tr>\n",
       "    <tr>\n",
       "      <th>1</th>\n",
       "      <td>37</td>\n",
       "      <td>0</td>\n",
       "      <td>75</td>\n",
       "      <td>51</td>\n",
       "      <td>3</td>\n",
       "      <td>1</td>\n",
       "      <td>72.54</td>\n",
       "      <td>2</td>\n",
       "      <td>South Africa</td>\n",
       "      <td>South Africa</td>\n",
       "      <td>False</td>\n",
       "      <td>False</td>\n",
       "    </tr>\n",
       "    <tr>\n",
       "      <th>2</th>\n",
       "      <td>47</td>\n",
       "      <td>0</td>\n",
       "      <td>65</td>\n",
       "      <td>40</td>\n",
       "      <td>7</td>\n",
       "      <td>0</td>\n",
       "      <td>117.50</td>\n",
       "      <td>2</td>\n",
       "      <td>Australia</td>\n",
       "      <td>India</td>\n",
       "      <td>True</td>\n",
       "      <td>False</td>\n",
       "    </tr>\n",
       "    <tr>\n",
       "      <th>3</th>\n",
       "      <td>48</td>\n",
       "      <td>0</td>\n",
       "      <td>37</td>\n",
       "      <td>30</td>\n",
       "      <td>9</td>\n",
       "      <td>1</td>\n",
       "      <td>160.00</td>\n",
       "      <td>2</td>\n",
       "      <td>Bangladesh</td>\n",
       "      <td>India</td>\n",
       "      <td>True</td>\n",
       "      <td>False</td>\n",
       "    </tr>\n",
       "    <tr>\n",
       "      <th>4</th>\n",
       "      <td>4</td>\n",
       "      <td>0</td>\n",
       "      <td>13</td>\n",
       "      <td>9</td>\n",
       "      <td>1</td>\n",
       "      <td>0</td>\n",
       "      <td>44.44</td>\n",
       "      <td>2</td>\n",
       "      <td>Pakistan</td>\n",
       "      <td>Pakistan</td>\n",
       "      <td>False</td>\n",
       "      <td>False</td>\n",
       "    </tr>\n",
       "  </tbody>\n",
       "</table>\n",
       "</div>"
      ],
      "text/plain": [
       "   runs  NotOut mins  bf  fours  sixes      sr  Inns           Opp  \\\n",
       "0    13       0   30  15      3      0   86.66     1   New Zealand   \n",
       "1    37       0   75  51      3      1   72.54     2  South Africa   \n",
       "2    47       0   65  40      7      0  117.50     2     Australia   \n",
       "3    48       0   37  30      9      1  160.00     2    Bangladesh   \n",
       "4     4       0   13   9      1      0   44.44     2      Pakistan   \n",
       "\n",
       "         Winner    Won  century  \n",
       "0   New Zealand  False    False  \n",
       "1  South Africa  False    False  \n",
       "2         India   True    False  \n",
       "3         India   True    False  \n",
       "4      Pakistan  False    False  "
      ]
     },
     "execution_count": 4,
     "metadata": {},
     "output_type": "execute_result"
    }
   ],
   "source": [
    "data = data.drop(['Ground', 'Date'], axis = 1)\n",
    "data.head()"
   ]
  },
  {
   "cell_type": "markdown",
   "id": "eeae84dc",
   "metadata": {},
   "source": [
    "1. If total matches played in the dataset is 360, it means that the total Sample Space = 360"
   ]
  },
  {
   "cell_type": "markdown",
   "id": "6e921a41",
   "metadata": {},
   "source": [
    "## How to get the Sample Space of the data:"
   ]
  },
  {
   "cell_type": "code",
   "execution_count": 5,
   "id": "f7717d8f",
   "metadata": {},
   "outputs": [
    {
     "data": {
      "text/plain": [
       "360"
      ]
     },
     "execution_count": 5,
     "metadata": {},
     "output_type": "execute_result"
    }
   ],
   "source": [
    "data.shape[0]"
   ]
  },
  {
   "cell_type": "code",
   "execution_count": 6,
   "id": "6d9f3bc8",
   "metadata": {},
   "outputs": [
    {
     "data": {
      "text/plain": [
       "360"
      ]
     },
     "execution_count": 6,
     "metadata": {},
     "output_type": "execute_result"
    }
   ],
   "source": [
    "len(data)"
   ]
  },
  {
   "cell_type": "markdown",
   "id": "9cb8a268",
   "metadata": {},
   "source": [
    "## Event A : India winning the match"
   ]
  },
  {
   "cell_type": "code",
   "execution_count": 7,
   "id": "6d604e73",
   "metadata": {},
   "outputs": [
    {
     "data": {
      "text/plain": [
       "True     184\n",
       "False    176\n",
       "Name: Won, dtype: int64"
      ]
     },
     "execution_count": 7,
     "metadata": {},
     "output_type": "execute_result"
    }
   ],
   "source": [
    "## Getting the sample space for event A\n",
    "\n",
    "data['Won'].value_counts()"
   ]
  },
  {
   "cell_type": "markdown",
   "id": "7233c051",
   "metadata": {},
   "source": [
    "1. The Sample Space for India winning the match is 184"
   ]
  },
  {
   "cell_type": "markdown",
   "id": "8d26994d",
   "metadata": {},
   "source": [
    "## Probability of Event A :"
   ]
  },
  {
   "cell_type": "code",
   "execution_count": 9,
   "id": "bfef15bd",
   "metadata": {},
   "outputs": [
    {
     "data": {
      "text/plain": [
       "0.5111111111111111"
      ]
     },
     "execution_count": 9,
     "metadata": {},
     "output_type": "execute_result"
    }
   ],
   "source": [
    "## Basic Approach or manual approach\n",
    "\n",
    "184 / 360"
   ]
  },
  {
   "cell_type": "code",
   "execution_count": 10,
   "id": "17b56da9",
   "metadata": {},
   "outputs": [
    {
     "data": {
      "text/html": [
       "<div>\n",
       "<style scoped>\n",
       "    .dataframe tbody tr th:only-of-type {\n",
       "        vertical-align: middle;\n",
       "    }\n",
       "\n",
       "    .dataframe tbody tr th {\n",
       "        vertical-align: top;\n",
       "    }\n",
       "\n",
       "    .dataframe thead th {\n",
       "        text-align: right;\n",
       "    }\n",
       "</style>\n",
       "<table border=\"1\" class=\"dataframe\">\n",
       "  <thead>\n",
       "    <tr style=\"text-align: right;\">\n",
       "      <th></th>\n",
       "      <th>runs</th>\n",
       "      <th>NotOut</th>\n",
       "      <th>mins</th>\n",
       "      <th>bf</th>\n",
       "      <th>fours</th>\n",
       "      <th>sixes</th>\n",
       "      <th>sr</th>\n",
       "      <th>Inns</th>\n",
       "      <th>Opp</th>\n",
       "      <th>Winner</th>\n",
       "      <th>Won</th>\n",
       "      <th>century</th>\n",
       "    </tr>\n",
       "  </thead>\n",
       "  <tbody>\n",
       "    <tr>\n",
       "      <th>2</th>\n",
       "      <td>47</td>\n",
       "      <td>0</td>\n",
       "      <td>65</td>\n",
       "      <td>40</td>\n",
       "      <td>7</td>\n",
       "      <td>0</td>\n",
       "      <td>117.50</td>\n",
       "      <td>2</td>\n",
       "      <td>Australia</td>\n",
       "      <td>India</td>\n",
       "      <td>True</td>\n",
       "      <td>False</td>\n",
       "    </tr>\n",
       "    <tr>\n",
       "      <th>3</th>\n",
       "      <td>48</td>\n",
       "      <td>0</td>\n",
       "      <td>37</td>\n",
       "      <td>30</td>\n",
       "      <td>9</td>\n",
       "      <td>1</td>\n",
       "      <td>160.00</td>\n",
       "      <td>2</td>\n",
       "      <td>Bangladesh</td>\n",
       "      <td>India</td>\n",
       "      <td>True</td>\n",
       "      <td>False</td>\n",
       "    </tr>\n",
       "    <tr>\n",
       "      <th>5</th>\n",
       "      <td>112</td>\n",
       "      <td>1</td>\n",
       "      <td>137</td>\n",
       "      <td>107</td>\n",
       "      <td>15</td>\n",
       "      <td>1</td>\n",
       "      <td>104.67</td>\n",
       "      <td>2</td>\n",
       "      <td>Sri Lanka</td>\n",
       "      <td>India</td>\n",
       "      <td>True</td>\n",
       "      <td>True</td>\n",
       "    </tr>\n",
       "    <tr>\n",
       "      <th>6</th>\n",
       "      <td>41</td>\n",
       "      <td>0</td>\n",
       "      <td>51</td>\n",
       "      <td>41</td>\n",
       "      <td>5</td>\n",
       "      <td>0</td>\n",
       "      <td>100.00</td>\n",
       "      <td>2</td>\n",
       "      <td>Sri Lanka</td>\n",
       "      <td>India</td>\n",
       "      <td>True</td>\n",
       "      <td>False</td>\n",
       "    </tr>\n",
       "    <tr>\n",
       "      <th>8</th>\n",
       "      <td>39</td>\n",
       "      <td>0</td>\n",
       "      <td>79</td>\n",
       "      <td>51</td>\n",
       "      <td>4</td>\n",
       "      <td>0</td>\n",
       "      <td>76.47</td>\n",
       "      <td>2</td>\n",
       "      <td>New Zealand</td>\n",
       "      <td>India</td>\n",
       "      <td>True</td>\n",
       "      <td>False</td>\n",
       "    </tr>\n",
       "  </tbody>\n",
       "</table>\n",
       "</div>"
      ],
      "text/plain": [
       "   runs  NotOut mins   bf  fours  sixes      sr  Inns          Opp Winner  \\\n",
       "2    47       0   65   40      7      0  117.50     2    Australia  India   \n",
       "3    48       0   37   30      9      1  160.00     2   Bangladesh  India   \n",
       "5   112       1  137  107     15      1  104.67     2    Sri Lanka  India   \n",
       "6    41       0   51   41      5      0  100.00     2    Sri Lanka  India   \n",
       "8    39       0   79   51      4      0   76.47     2  New Zealand  India   \n",
       "\n",
       "    Won  century  \n",
       "2  True    False  \n",
       "3  True    False  \n",
       "5  True     True  \n",
       "6  True    False  \n",
       "8  True    False  "
      ]
     },
     "execution_count": 10,
     "metadata": {},
     "output_type": "execute_result"
    }
   ],
   "source": [
    "## Pandas Approach\n",
    "\n",
    "df_won = data[data['Won'] == True]\n",
    "df_won.head()"
   ]
  },
  {
   "cell_type": "code",
   "execution_count": 11,
   "id": "201e1fcc",
   "metadata": {},
   "outputs": [
    {
     "data": {
      "text/plain": [
       "(184, 12)"
      ]
     },
     "execution_count": 11,
     "metadata": {},
     "output_type": "execute_result"
    }
   ],
   "source": [
    "df_won.shape"
   ]
  },
  {
   "cell_type": "code",
   "execution_count": 14,
   "id": "339f4076",
   "metadata": {},
   "outputs": [
    {
     "data": {
      "text/plain": [
       "0.5111111111111111"
      ]
     },
     "execution_count": 14,
     "metadata": {},
     "output_type": "execute_result"
    }
   ],
   "source": [
    "p_a = len(df_won) / len(data)\n",
    "p_a"
   ]
  },
  {
   "cell_type": "markdown",
   "id": "f357efcf",
   "metadata": {},
   "source": [
    "## Observation:\n",
    "\n",
    "- 0.51 (probability) represents that 50% is the winning rate for India"
   ]
  },
  {
   "cell_type": "markdown",
   "id": "4a541ffd",
   "metadata": {},
   "source": [
    "## Probability of losing"
   ]
  },
  {
   "cell_type": "code",
   "execution_count": 15,
   "id": "14420679",
   "metadata": {},
   "outputs": [
    {
     "data": {
      "text/plain": [
       "0.48888888888888893"
      ]
     },
     "execution_count": 15,
     "metadata": {},
     "output_type": "execute_result"
    }
   ],
   "source": [
    "1 - p_a"
   ]
  },
  {
   "cell_type": "markdown",
   "id": "18d38ce1",
   "metadata": {},
   "source": [
    "## Observation:\n",
    "\n",
    "- Probability of losing is negative of Probability of winning\n",
    "- P(A') = 1 - P(A)                [A' means A complement]"
   ]
  },
  {
   "cell_type": "code",
   "execution_count": null,
   "id": "21b6d13b",
   "metadata": {},
   "outputs": [],
   "source": []
  }
 ],
 "metadata": {
  "kernelspec": {
   "display_name": "Python 3 (ipykernel)",
   "language": "python",
   "name": "python3"
  },
  "language_info": {
   "codemirror_mode": {
    "name": "ipython",
    "version": 3
   },
   "file_extension": ".py",
   "mimetype": "text/x-python",
   "name": "python",
   "nbconvert_exporter": "python",
   "pygments_lexer": "ipython3",
   "version": "3.9.16"
  }
 },
 "nbformat": 4,
 "nbformat_minor": 5
}
